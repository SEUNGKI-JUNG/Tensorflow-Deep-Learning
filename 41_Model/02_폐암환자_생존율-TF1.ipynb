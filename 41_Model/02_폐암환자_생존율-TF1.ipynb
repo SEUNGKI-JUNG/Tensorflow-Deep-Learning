{
 "cells": [
  {
   "cell_type": "markdown",
   "metadata": {},
   "source": [
    "## 폐암 수술 환자의 생존율 데이터 분석"
   ]
  },
  {
   "cell_type": "code",
   "execution_count": 1,
   "metadata": {},
   "outputs": [
    {
     "name": "stdout",
     "output_type": "stream",
     "text": [
      "WARNING:tensorflow:From C:\\Users\\ckkim\\.conda\\envs\\tf2\\lib\\site-packages\\tensorflow_core\\python\\compat\\v2_compat.py:65: disable_resource_variables (from tensorflow.python.ops.variable_scope) is deprecated and will be removed in a future version.\n",
      "Instructions for updating:\n",
      "non-resource variables are not supported in the long term\n"
     ]
    }
   ],
   "source": [
    "# 필요한 라이브러리\n",
    "import numpy as np\n",
    "import tensorflow.compat.v1 as tf\n",
    "tf.disable_v2_behavior()"
   ]
  },
  {
   "cell_type": "code",
   "execution_count": 2,
   "metadata": {},
   "outputs": [],
   "source": [
    "# 실행할 때마다 같은 결과를 출력하기 위한 seed 값 설정\n",
    "seed = 0\n",
    "np.random.seed(seed)\n",
    "tf.set_random_seed(seed)"
   ]
  },
  {
   "cell_type": "code",
   "execution_count": 3,
   "metadata": {},
   "outputs": [
    {
     "data": {
      "text/plain": [
       "array([[293.  ,   1.  ,   3.8 , ...,   0.  ,  62.  ,   0.  ],\n",
       "       [  1.  ,   2.  ,   2.88, ...,   0.  ,  60.  ,   0.  ],\n",
       "       [  8.  ,   2.  ,   3.19, ...,   0.  ,  66.  ,   1.  ],\n",
       "       ...,\n",
       "       [406.  ,   6.  ,   5.36, ...,   0.  ,  62.  ,   0.  ],\n",
       "       [ 25.  ,   8.  ,   4.32, ...,   0.  ,  58.  ,   1.  ],\n",
       "       [447.  ,   8.  ,   5.2 , ...,   0.  ,  49.  ,   0.  ]])"
      ]
     },
     "execution_count": 3,
     "metadata": {},
     "output_type": "execute_result"
    }
   ],
   "source": [
    "# 준비된 수술 환자 데이터를 불러들임\n",
    "Data_set = np.loadtxt(\"dataset/ThoraricSurgery.csv\", delimiter=\",\")\n",
    "Data_set"
   ]
  },
  {
   "cell_type": "code",
   "execution_count": 4,
   "metadata": {},
   "outputs": [],
   "source": [
    "# 환자의 기록과 수술 결과를 X와 Y로 구분하여 저장\n",
    "x_data = np.array(Data_set[:, 0:17], dtype=np.float64)\n",
    "y_data = np.array(Data_set[:, 17], dtype=np.float64).reshape(470, 1)"
   ]
  },
  {
   "cell_type": "code",
   "execution_count": 5,
   "metadata": {},
   "outputs": [
    {
     "name": "stdout",
     "output_type": "stream",
     "text": [
      "(470, 17) (470, 1)\n"
     ]
    }
   ],
   "source": [
    "print(x_data.shape, y_data.shape)"
   ]
  },
  {
   "cell_type": "code",
   "execution_count": 66,
   "metadata": {},
   "outputs": [],
   "source": [
    "# 입력 값을 플레이스 홀더에 저장\n",
    "X = tf.placeholder(tf.float64, shape=[None, 17])\n",
    "Y = tf.placeholder(tf.float64, shape=[None, 1])"
   ]
  },
  {
   "cell_type": "code",
   "execution_count": 67,
   "metadata": {},
   "outputs": [],
   "source": [
    "# Layer 1의 웨이트 W와 바이어스 b의 값을 임의로 정함 \n",
    "W1 = tf.Variable(tf.random_normal([17,30], dtype=tf.float64)) \n",
    "b1 = tf.Variable(tf.random_normal([30], dtype=tf.float64))\n",
    "L1 = tf.nn.relu(tf.add(tf.matmul(X, W1), b1))"
   ]
  },
  {
   "cell_type": "markdown",
   "metadata": {},
   "source": [
    "### 아래와 같이 하면 cost 값이 nan 이 됨"
   ]
  },
  {
   "cell_type": "code",
   "execution_count": 68,
   "metadata": {},
   "outputs": [],
   "source": [
    "# Layer 2\n",
    "W2 = tf.Variable(tf.random_normal([30,1], dtype=tf.float64)) \n",
    "b2 = tf.Variable(tf.random_normal([1], dtype=tf.float64))\n",
    "hypo = tf.sigmoid(tf.add(tf.matmul(L1, W2), b2))"
   ]
  },
  {
   "cell_type": "code",
   "execution_count": 69,
   "metadata": {},
   "outputs": [],
   "source": [
    "# Binary Cross Entropy\n",
    "learning_rate = 0.1\n",
    "cost = tf.reduce_mean(-Y * tf.log(hypo) - (1.-Y) * tf.log(1.-hypo))"
   ]
  },
  {
   "cell_type": "code",
   "execution_count": 71,
   "metadata": {},
   "outputs": [],
   "source": [
    "predict = tf.cast(hypo > 0.5, dtype=tf.float64)\n",
    "accuracy = tf.reduce_mean(tf.cast(tf.equal(predict, Y), dtype=tf.float64))"
   ]
  },
  {
   "cell_type": "code",
   "execution_count": 73,
   "metadata": {},
   "outputs": [],
   "source": [
    "train = tf.train.AdamOptimizer(learning_rate).minimize(cost)"
   ]
  },
  {
   "cell_type": "code",
   "execution_count": 74,
   "metadata": {},
   "outputs": [
    {
     "name": "stdout",
     "output_type": "stream",
     "text": [
      "step=1, cost_val=nan, accuracy: 0.8106\n",
      "step=2, cost_val=nan, accuracy: 0.8511\n",
      "step=3, cost_val=nan, accuracy: 0.8511\n",
      "step=4, cost_val=nan, accuracy: 0.8511\n",
      "step=5, cost_val=nan, accuracy: 0.8511\n",
      "step=6, cost_val=nan, accuracy: 0.8511\n",
      "step=7, cost_val=nan, accuracy: 0.8511\n",
      "step=8, cost_val=nan, accuracy: 0.8511\n",
      "step=9, cost_val=nan, accuracy: 0.8511\n",
      "step=10, cost_val=nan, accuracy: 0.8511\n"
     ]
    }
   ],
   "source": [
    "# 학습\n",
    "sess = tf.Session()\n",
    "sess.run(tf.global_variables_initializer())\n",
    "\n",
    "for epoch in range(10):\n",
    "    _, cost_val, acc_val = sess.run([train, cost, accuracy], feed_dict = {X: x_data, Y: y_data})\n",
    "    print(\"step=%d, cost_val=%.5f, accuracy: %.4f\" % (epoch + 1, cost_val, acc_val))"
   ]
  },
  {
   "cell_type": "markdown",
   "metadata": {},
   "source": [
    "### nan을 피하려면 다음과 같이 하여야 함"
   ]
  },
  {
   "cell_type": "code",
   "execution_count": 76,
   "metadata": {},
   "outputs": [],
   "source": [
    "# Layer 2\n",
    "W2 = tf.Variable(tf.random_normal([30,1], dtype=tf.float64)) \n",
    "b2 = tf.Variable(tf.random_normal([1], dtype=tf.float64))\n",
    "hypo = tf.add(tf.matmul(L1, W2), b2)"
   ]
  },
  {
   "cell_type": "code",
   "execution_count": 77,
   "metadata": {},
   "outputs": [],
   "source": [
    "# Binary Cross Entropy\n",
    "learning_rate = 0.1\n",
    "cost = tf.nn.sigmoid_cross_entropy_with_logits(logits=hypo, labels=Y)"
   ]
  },
  {
   "cell_type": "code",
   "execution_count": 78,
   "metadata": {},
   "outputs": [],
   "source": [
    "predict = tf.cast(hypo > 0, dtype=tf.float64)\n",
    "accuracy = tf.reduce_mean(tf.cast(tf.equal(predict, Y), dtype=tf.float64))"
   ]
  },
  {
   "cell_type": "code",
   "execution_count": 79,
   "metadata": {},
   "outputs": [],
   "source": [
    "train = tf.train.AdamOptimizer(learning_rate).minimize(cost)"
   ]
  },
  {
   "cell_type": "code",
   "execution_count": 80,
   "metadata": {},
   "outputs": [
    {
     "name": "stdout",
     "output_type": "stream",
     "text": [
      "step=1, cost_val=2042.35160, accuracy: 0.1489\n",
      "step=2, cost_val=1398.13367, accuracy: 0.1489\n",
      "step=3, cost_val=799.63262, accuracy: 0.2277\n",
      "step=4, cost_val=250.05682, accuracy: 0.3936\n",
      "step=5, cost_val=0.00000, accuracy: 0.8511\n",
      "step=6, cost_val=0.00000, accuracy: 0.8511\n",
      "step=7, cost_val=0.00000, accuracy: 0.8511\n",
      "step=8, cost_val=0.00000, accuracy: 0.8511\n",
      "step=9, cost_val=0.00000, accuracy: 0.8511\n",
      "step=10, cost_val=0.00000, accuracy: 0.8511\n"
     ]
    }
   ],
   "source": [
    "# 학습\n",
    "sess = tf.Session()\n",
    "sess.run(tf.global_variables_initializer())\n",
    "\n",
    "for epoch in range(10):\n",
    "    _, cost_val, acc_val = sess.run([train, cost, accuracy], feed_dict = {X: x_data, Y: y_data})\n",
    "    print(\"step=%d, cost_val=%.5f, accuracy: %.4f\" % (epoch + 1, cost_val[0], acc_val))"
   ]
  },
  {
   "cell_type": "markdown",
   "metadata": {},
   "source": [
    "### 평가"
   ]
  },
  {
   "cell_type": "code",
   "execution_count": 81,
   "metadata": {},
   "outputs": [
    {
     "name": "stdout",
     "output_type": "stream",
     "text": [
      "Accuracy: 0.8511\n"
     ]
    }
   ],
   "source": [
    "acc = sess.run(accuracy, feed_dict = {X: x_data, Y: y_data})\n",
    "print(\"Accuracy: %.4f\" % acc)"
   ]
  },
  {
   "cell_type": "markdown",
   "metadata": {},
   "source": [
    "### 분석"
   ]
  },
  {
   "cell_type": "code",
   "execution_count": 82,
   "metadata": {},
   "outputs": [],
   "source": [
    "W1_, W2_, b1_, b2_ = sess.run([W1, W2, b1, b2])"
   ]
  },
  {
   "cell_type": "code",
   "execution_count": 89,
   "metadata": {},
   "outputs": [],
   "source": [
    "def ReLU(x):\n",
    "    return x * (x > 0)\n",
    "def sigmoid(x):\n",
    "    return 1./(1. + np.e**(-x))"
   ]
  },
  {
   "cell_type": "code",
   "execution_count": 84,
   "metadata": {},
   "outputs": [
    {
     "data": {
      "text/plain": [
       "array([-0.60944192,  0.30364601,  0.04540281, -0.54825976, -0.77957685,\n",
       "       -0.565919  ,  1.54174703, -0.5864513 , -1.12972836,  0.83256405,\n",
       "       -1.10162785, -2.24775087, -1.0463446 , -0.99829141, -0.77690056,\n",
       "       -1.62534383, -1.66153152,  0.07146427, -1.25389784, -0.31012793,\n",
       "        0.55201878, -1.06460855,  0.0973948 , -4.26803179, -0.30713957,\n",
       "       -1.91532796,  0.53727522, -1.01371593,  1.60610197,  2.2275901 ])"
      ]
     },
     "execution_count": 84,
     "metadata": {},
     "output_type": "execute_result"
    }
   ],
   "source": [
    "b1_"
   ]
  },
  {
   "cell_type": "code",
   "execution_count": 87,
   "metadata": {},
   "outputs": [
    {
     "data": {
      "text/plain": [
       "array([[ -0.        ,  -0.        ,  -0.        ,  -0.        ,\n",
       "         15.3905051 , 167.81089366,  -0.        , 283.60536853,\n",
       "        191.58026911,  -0.        ,  11.18896191,  -0.        ,\n",
       "         -0.        ,  -0.        ,  -0.        ,  -0.        ,\n",
       "         82.56645688, 762.93011118,  -0.        , 380.1102242 ,\n",
       "         -0.        ,  -0.        ,  -0.        ,  -0.        ,\n",
       "         -0.        ,  -0.        ,  98.34325327,  -0.        ,\n",
       "         -0.        ,  26.31662324]])"
      ]
     },
     "execution_count": 87,
     "metadata": {},
     "output_type": "execute_result"
    }
   ],
   "source": [
    "L1_ = ReLU(np.matmul(x_data[0,:].reshape(1,17), W1_) + b1_)\n",
    "L1_"
   ]
  },
  {
   "cell_type": "code",
   "execution_count": 95,
   "metadata": {},
   "outputs": [
    {
     "name": "stdout",
     "output_type": "stream",
     "text": [
      "-1514.5824686985181 0.0\n"
     ]
    },
    {
     "name": "stderr",
     "output_type": "stream",
     "text": [
      "C:\\Users\\ckkim\\.conda\\envs\\tf2\\lib\\site-packages\\ipykernel_launcher.py:4: RuntimeWarning: overflow encountered in power\n",
      "  after removing the cwd from sys.path.\n"
     ]
    }
   ],
   "source": [
    "L2_ = np.matmul(L1_, W2_) + b2_\n",
    "H = sigmoid(L2_)\n",
    "print(L2_[0].item(), H[0].item())"
   ]
  },
  {
   "cell_type": "code",
   "execution_count": 96,
   "metadata": {},
   "outputs": [
    {
     "data": {
      "text/plain": [
       "0.0"
      ]
     },
     "execution_count": 96,
     "metadata": {},
     "output_type": "execute_result"
    }
   ],
   "source": [
    "y_data[0].item()"
   ]
  },
  {
   "cell_type": "code",
   "execution_count": null,
   "metadata": {},
   "outputs": [],
   "source": []
  }
 ],
 "metadata": {
  "kernelspec": {
   "display_name": "Python 3",
   "language": "python",
   "name": "python3"
  },
  "language_info": {
   "codemirror_mode": {
    "name": "ipython",
    "version": 3
   },
   "file_extension": ".py",
   "mimetype": "text/x-python",
   "name": "python",
   "nbconvert_exporter": "python",
   "pygments_lexer": "ipython3",
   "version": "3.7.5"
  }
 },
 "nbformat": 4,
 "nbformat_minor": 2
}
