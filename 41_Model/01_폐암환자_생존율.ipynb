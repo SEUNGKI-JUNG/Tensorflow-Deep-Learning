{
 "cells": [
  {
   "cell_type": "markdown",
   "metadata": {},
   "source": [
    "## 폐암 수술 환자의 생존율 데이터 분석"
   ]
  },
  {
   "cell_type": "code",
   "execution_count": 1,
   "metadata": {},
   "outputs": [
    {
     "data": {
      "text/plain": [
       "'2.0.0'"
      ]
     },
     "execution_count": 1,
     "metadata": {},
     "output_type": "execute_result"
    }
   ],
   "source": [
    "# 필요한 라이브러리\n",
    "import numpy as np\n",
    "import tensorflow as tf\n",
    "tf.__version__"
   ]
  },
  {
   "cell_type": "code",
   "execution_count": 2,
   "metadata": {},
   "outputs": [],
   "source": [
    "from tensorflow.keras.models import Sequential\n",
    "from tensorflow.keras.layers import Dense"
   ]
  },
  {
   "cell_type": "code",
   "execution_count": 3,
   "metadata": {},
   "outputs": [],
   "source": [
    "# 실행할 때마다 같은 결과를 출력하기 위한 seed 값 설정\n",
    "seed = 0\n",
    "np.random.seed(seed)\n",
    "tf.random.set_seed(seed)"
   ]
  },
  {
   "cell_type": "code",
   "execution_count": 4,
   "metadata": {},
   "outputs": [
    {
     "data": {
      "text/plain": [
       "array([[293.  ,   1.  ,   3.8 , ...,   0.  ,  62.  ,   0.  ],\n",
       "       [  1.  ,   2.  ,   2.88, ...,   0.  ,  60.  ,   0.  ],\n",
       "       [  8.  ,   2.  ,   3.19, ...,   0.  ,  66.  ,   1.  ],\n",
       "       ...,\n",
       "       [406.  ,   6.  ,   5.36, ...,   0.  ,  62.  ,   0.  ],\n",
       "       [ 25.  ,   8.  ,   4.32, ...,   0.  ,  58.  ,   1.  ],\n",
       "       [447.  ,   8.  ,   5.2 , ...,   0.  ,  49.  ,   0.  ]])"
      ]
     },
     "execution_count": 4,
     "metadata": {},
     "output_type": "execute_result"
    }
   ],
   "source": [
    "# 준비된 수술 환자 데이터를 불러들임\n",
    "Data_set = np.loadtxt(\"dataset/ThoraricSurgery.csv\", delimiter=\",\")\n",
    "Data_set"
   ]
  },
  {
   "cell_type": "code",
   "execution_count": 5,
   "metadata": {},
   "outputs": [],
   "source": [
    "# 환자의 기록과 수술 결과를 X와 Y로 구분하여 저장\n",
    "X = Data_set[:, 0:17]\n",
    "Y = Data_set[:, 17]"
   ]
  },
  {
   "cell_type": "code",
   "execution_count": 6,
   "metadata": {},
   "outputs": [
    {
     "name": "stdout",
     "output_type": "stream",
     "text": [
      "Model: \"sequential\"\n",
      "_________________________________________________________________\n",
      "Layer (type)                 Output Shape              Param #   \n",
      "=================================================================\n",
      "dense (Dense)                (None, 30)                540       \n",
      "_________________________________________________________________\n",
      "dense_1 (Dense)              (None, 1)                 31        \n",
      "=================================================================\n",
      "Total params: 571\n",
      "Trainable params: 571\n",
      "Non-trainable params: 0\n",
      "_________________________________________________________________\n"
     ]
    }
   ],
   "source": [
    "# 딥러닝 모델 설정\n",
    "model = Sequential([\n",
    "    Dense(30, input_shape=(17,), activation='relu'),\n",
    "    Dense(1, activation='sigmoid')\n",
    "])\n",
    "model.summary()"
   ]
  },
  {
   "cell_type": "code",
   "execution_count": 7,
   "metadata": {},
   "outputs": [],
   "source": [
    "# 딥러닝 환경 설정 (오차함수, 최적화함수)\n",
    "model.compile(loss='binary_crossentropy', optimizer='adam', metrics=['accuracy'])"
   ]
  },
  {
   "cell_type": "code",
   "execution_count": 8,
   "metadata": {},
   "outputs": [
    {
     "name": "stdout",
     "output_type": "stream",
     "text": [
      "Train on 470 samples\n",
      "Epoch 1/20\n",
      "470/470 [==============================] - 1s 2ms/sample - loss: 3.8373 - accuracy: 0.6489\n",
      "Epoch 2/20\n",
      "470/470 [==============================] - 0s 185us/sample - loss: 0.6170 - accuracy: 0.8298\n",
      "Epoch 3/20\n",
      "470/470 [==============================] - 0s 197us/sample - loss: 0.4939 - accuracy: 0.8447\n",
      "Epoch 4/20\n",
      "470/470 [==============================] - 0s 199us/sample - loss: 0.5024 - accuracy: 0.8319\n",
      "Epoch 5/20\n",
      "470/470 [==============================] - 0s 195us/sample - loss: 0.4672 - accuracy: 0.8404\n",
      "Epoch 6/20\n",
      "470/470 [==============================] - 0s 197us/sample - loss: 0.4807 - accuracy: 0.8511\n",
      "Epoch 7/20\n",
      "470/470 [==============================] - 0s 191us/sample - loss: 0.4820 - accuracy: 0.8383\n",
      "Epoch 8/20\n",
      "470/470 [==============================] - 0s 195us/sample - loss: 0.4812 - accuracy: 0.8468\n",
      "Epoch 9/20\n",
      "470/470 [==============================] - 0s 187us/sample - loss: 0.4751 - accuracy: 0.8468\n",
      "Epoch 10/20\n",
      "470/470 [==============================] - 0s 208us/sample - loss: 0.4848 - accuracy: 0.8255\n",
      "Epoch 11/20\n",
      "470/470 [==============================] - 0s 210us/sample - loss: 0.5382 - accuracy: 0.8277\n",
      "Epoch 12/20\n",
      "470/470 [==============================] - 0s 199us/sample - loss: 0.4532 - accuracy: 0.8511\n",
      "Epoch 13/20\n",
      "470/470 [==============================] - 0s 195us/sample - loss: 0.4569 - accuracy: 0.8489\n",
      "Epoch 14/20\n",
      "470/470 [==============================] - 0s 193us/sample - loss: 0.4413 - accuracy: 0.8532\n",
      "Epoch 15/20\n",
      "470/470 [==============================] - 0s 204us/sample - loss: 0.4901 - accuracy: 0.8489\n",
      "Epoch 16/20\n",
      "470/470 [==============================] - 0s 197us/sample - loss: 0.4498 - accuracy: 0.8468\n",
      "Epoch 17/20\n",
      "470/470 [==============================] - 0s 214us/sample - loss: 0.4389 - accuracy: 0.8553\n",
      "Epoch 18/20\n",
      "470/470 [==============================] - 0s 214us/sample - loss: 0.4599 - accuracy: 0.8511\n",
      "Epoch 19/20\n",
      "470/470 [==============================] - 0s 233us/sample - loss: 0.4596 - accuracy: 0.8447\n",
      "Epoch 20/20\n",
      "470/470 [==============================] - 0s 220us/sample - loss: 0.4355 - accuracy: 0.8511\n"
     ]
    },
    {
     "data": {
      "text/plain": [
       "<tensorflow.python.keras.callbacks.History at 0x2be8ebd2708>"
      ]
     },
     "execution_count": 8,
     "metadata": {},
     "output_type": "execute_result"
    }
   ],
   "source": [
    "# 딥러닝 실행\n",
    "model.fit(X, Y, epochs=20, batch_size=10)"
   ]
  },
  {
   "cell_type": "code",
   "execution_count": 9,
   "metadata": {},
   "outputs": [
    {
     "name": "stdout",
     "output_type": "stream",
     "text": [
      "\n",
      " Accuracy: 0.8532\n"
     ]
    }
   ],
   "source": [
    "# 결과 출력\n",
    "# evaluate() returns the loss value & metrics values for the model \n",
    "print(\"\\n Accuracy: %.4f\" % (model.evaluate(X, Y, verbose=0))[1])"
   ]
  },
  {
   "cell_type": "code",
   "execution_count": null,
   "metadata": {},
   "outputs": [],
   "source": []
  }
 ],
 "metadata": {
  "kernelspec": {
   "display_name": "Python 3",
   "language": "python",
   "name": "python3"
  },
  "language_info": {
   "codemirror_mode": {
    "name": "ipython",
    "version": 3
   },
   "file_extension": ".py",
   "mimetype": "text/x-python",
   "name": "python",
   "nbconvert_exporter": "python",
   "pygments_lexer": "ipython3",
   "version": "3.7.5"
  }
 },
 "nbformat": 4,
 "nbformat_minor": 2
}
