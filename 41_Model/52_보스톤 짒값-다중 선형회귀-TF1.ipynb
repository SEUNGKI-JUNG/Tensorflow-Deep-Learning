{
 "cells": [
  {
   "cell_type": "markdown",
   "metadata": {},
   "source": [
    "# 다중 선형회귀\n",
    "## 보스톤 집값"
   ]
  },
  {
   "cell_type": "code",
   "execution_count": 1,
   "metadata": {},
   "outputs": [
    {
     "name": "stdout",
     "output_type": "stream",
     "text": [
      "WARNING:tensorflow:From C:\\Users\\ckkim\\.conda\\envs\\tf2\\lib\\site-packages\\tensorflow_core\\python\\compat\\v2_compat.py:65: disable_resource_variables (from tensorflow.python.ops.variable_scope) is deprecated and will be removed in a future version.\n",
      "Instructions for updating:\n",
      "non-resource variables are not supported in the long term\n"
     ]
    }
   ],
   "source": [
    "import numpy as np\n",
    "import pandas as pd\n",
    "import tensorflow.compat.v1 as tf\n",
    "tf.disable_v2_behavior()\n",
    "from sklearn.model_selection import train_test_split"
   ]
  },
  {
   "cell_type": "code",
   "execution_count": 2,
   "metadata": {},
   "outputs": [],
   "source": [
    "# seed 값 생성\n",
    "seed = 0\n",
    "np.random.seed(seed)\n",
    "tf.set_random_seed(seed)"
   ]
  },
  {
   "cell_type": "code",
   "execution_count": 3,
   "metadata": {},
   "outputs": [
    {
     "name": "stdout",
     "output_type": "stream",
     "text": [
      "(506, 13) (506, 1)\n"
     ]
    }
   ],
   "source": [
    "df = pd.read_csv(\"dataset/housing.csv\", delim_whitespace=True, header=None)\n",
    "dataset = df.values\n",
    "x_data = np.array(dataset[:,0:13], dtype=np.float64)\n",
    "y_data = np.array(dataset[:,13], dtype=np.float64).reshape(506,1)\n",
    "print(x_data.shape, y_data.shape)"
   ]
  },
  {
   "cell_type": "code",
   "execution_count": 4,
   "metadata": {},
   "outputs": [],
   "source": [
    "X_train, X_test, Y_train, Y_test = train_test_split(x_data, y_data, test_size=0.3, \n",
    "                                                    random_state=seed)"
   ]
  },
  {
   "cell_type": "code",
   "execution_count": 22,
   "metadata": {},
   "outputs": [],
   "source": [
    "# 입력 값을 플레이스 홀더에 저장\n",
    "X = tf.placeholder(tf.float64, shape=[None, 13])\n",
    "Y = tf.placeholder(tf.float64, shape=[None, 1])"
   ]
  },
  {
   "cell_type": "code",
   "execution_count": 23,
   "metadata": {},
   "outputs": [],
   "source": [
    "# Layer 1\n",
    "W1 = tf.Variable(tf.random_normal([13,30], dtype=tf.float64)) \n",
    "b1 = tf.Variable(tf.random_normal([30], dtype=tf.float64))\n",
    "L1 = tf.nn.relu(tf.add(tf.matmul(X, W1), b1))\n",
    "#L1 = tf.add(tf.matmul(X, W1), b1)"
   ]
  },
  {
   "cell_type": "code",
   "execution_count": 24,
   "metadata": {},
   "outputs": [],
   "source": [
    "# Layer 2\n",
    "W2 = tf.Variable(tf.random_normal([30,6], dtype=tf.float64)) \n",
    "b2 = tf.Variable(tf.random_normal([6], dtype=tf.float64))\n",
    "L2 = tf.nn.relu(tf.add(tf.matmul(L1, W2), b2))\n",
    "#L2 = tf.add(tf.matmul(L1, W2), b2)"
   ]
  },
  {
   "cell_type": "code",
   "execution_count": 25,
   "metadata": {},
   "outputs": [],
   "source": [
    "# Layer 3\n",
    "W3 = tf.Variable(tf.random_normal([6,1], dtype=tf.float64)) \n",
    "b3 = tf.Variable(tf.random_normal([1], dtype=tf.float64))\n",
    "hypo = tf.add(tf.matmul(L2, W3), b3)"
   ]
  },
  {
   "cell_type": "code",
   "execution_count": 26,
   "metadata": {},
   "outputs": [],
   "source": [
    "# Mean Squared Error\n",
    "cost = tf.reduce_mean(tf.square(Y - hypo))"
   ]
  },
  {
   "cell_type": "code",
   "execution_count": 27,
   "metadata": {},
   "outputs": [],
   "source": [
    "learning_rate = 0.1\n",
    "train = tf.train.AdamOptimizer(learning_rate).minimize(cost)"
   ]
  },
  {
   "cell_type": "code",
   "execution_count": 30,
   "metadata": {},
   "outputs": [
    {
     "name": "stdout",
     "output_type": "stream",
     "text": [
      "step=1, \tcost_val=1172499.89921\n",
      "step=101, \tcost_val=17288.43353\n",
      "step=201, \tcost_val=6089.22396\n",
      "step=301, \tcost_val=1988.69773\n",
      "step=401, \tcost_val=888.47845\n",
      "step=501, \tcost_val=554.94184\n",
      "step=601, \tcost_val=378.35750\n",
      "step=701, \tcost_val=258.67922\n",
      "step=801, \tcost_val=177.24331\n",
      "step=901, \tcost_val=123.43093\n",
      "step=1001, \tcost_val=88.67077\n",
      "step=1101, \tcost_val=66.52679\n",
      "step=1201, \tcost_val=52.52968\n",
      "step=1301, \tcost_val=43.72700\n",
      "step=1401, \tcost_val=38.21414\n",
      "step=1501, \tcost_val=34.76839\n",
      "step=1601, \tcost_val=32.60289\n",
      "step=1701, \tcost_val=31.21252\n",
      "step=1801, \tcost_val=30.27765\n",
      "step=1901, \tcost_val=29.60147\n",
      "step=2001, \tcost_val=29.06732\n"
     ]
    }
   ],
   "source": [
    "# 학습\n",
    "sess = tf.Session()\n",
    "sess.run(tf.global_variables_initializer())\n",
    "\n",
    "for epoch in range(2001):\n",
    "    sess.run(train, feed_dict = {X: X_train, Y: Y_train})\n",
    "    if epoch % 100 == 0:\n",
    "        cost_val = sess.run(cost, feed_dict = {X: X_train, Y: Y_train})\n",
    "        print(\"step=%d, \\tcost_val=%.5f\" % (epoch + 1, cost_val))\n",
    "    \n",
    "W1_, W2_, W3_, b1_, b2_, b3_ = sess.run([W1, W2, W3, b1, b2, b3])"
   ]
  },
  {
   "cell_type": "code",
   "execution_count": 20,
   "metadata": {},
   "outputs": [
    {
     "data": {
      "text/plain": [
       "(array([[6.7240e-02],\n",
       "        [0.0000e+00],\n",
       "        [3.2400e+00],\n",
       "        [0.0000e+00],\n",
       "        [4.6000e-01],\n",
       "        [6.3330e+00],\n",
       "        [1.7200e+01],\n",
       "        [5.2146e+00],\n",
       "        [4.0000e+00],\n",
       "        [4.3000e+02],\n",
       "        [1.6900e+01],\n",
       "        [3.7521e+02],\n",
       "        [7.3400e+00]]), array([22.6]))"
      ]
     },
     "execution_count": 20,
     "metadata": {},
     "output_type": "execute_result"
    }
   ],
   "source": [
    "X_test[0,:], Y_test[0]"
   ]
  },
  {
   "cell_type": "code",
   "execution_count": 54,
   "metadata": {},
   "outputs": [
    {
     "data": {
      "text/plain": [
       "22.28272213526217"
      ]
     },
     "execution_count": 54,
     "metadata": {},
     "output_type": "execute_result"
    }
   ],
   "source": [
    "hypo_val = sess.run(hypo, feed_dict = {X: X_test[10,:].reshape(1,13)})\n",
    "hypo_val[0].item()"
   ]
  },
  {
   "cell_type": "code",
   "execution_count": 35,
   "metadata": {},
   "outputs": [
    {
     "data": {
      "text/plain": [
       "float"
      ]
     },
     "execution_count": 35,
     "metadata": {},
     "output_type": "execute_result"
    }
   ],
   "source": [
    "real = float(Y_test[0].item())\n",
    "type(real)"
   ]
  },
  {
   "cell_type": "code",
   "execution_count": 32,
   "metadata": {},
   "outputs": [
    {
     "name": "stdout",
     "output_type": "stream",
     "text": [
      "실제가격: 22.600, 예상가격: 21.737\n",
      "실제가격: 50.000, 예상가격: 24.438\n",
      "실제가격: 23.000, 예상가격: 28.719\n",
      "실제가격: 8.300, 예상가격: 13.764\n",
      "실제가격: 21.200, 예상가격: 19.915\n",
      "실제가격: 19.900, 예상가격: 23.630\n",
      "실제가격: 20.600, 예상가격: 19.285\n",
      "실제가격: 18.700, 예상가격: 23.574\n",
      "실제가격: 16.100, 예상가격: 16.876\n",
      "실제가격: 18.600, 예상가격: 21.166\n"
     ]
    }
   ],
   "source": [
    "for i in range(10):\n",
    "    hypo_val = sess.run(hypo, feed_dict = {X: X_test[i,:].reshape(1,13)})\n",
    "    real = float(Y_test[i].item())\n",
    "    print(\"실제가격: {:.3f}, 예상가격: {:.3f}\".format(real, hypo_val[0].item()))"
   ]
  },
  {
   "cell_type": "code",
   "execution_count": null,
   "metadata": {},
   "outputs": [],
   "source": []
  },
  {
   "cell_type": "code",
   "execution_count": 14,
   "metadata": {},
   "outputs": [],
   "source": [
    "def ReLU(x):\n",
    "    return x * (x > 0)"
   ]
  },
  {
   "cell_type": "code",
   "execution_count": 15,
   "metadata": {},
   "outputs": [
    {
     "data": {
      "text/plain": [
       "array([[1026.23829698,   -0.        ,  171.87386865,   -0.        ,\n",
       "         910.37609293,   -0.        ,   -0.        ,  385.50032964,\n",
       "          -0.        ,   -0.        ,  481.81291107,   -0.        ,\n",
       "          -0.        ,   -0.        ,   -0.        ,   -0.        ,\n",
       "        1504.30751992,   -0.        ,   -0.        ,   -0.        ,\n",
       "          -0.        ,   -0.        ,   -0.        ,  562.77518204,\n",
       "          -0.        ,  311.44563972,   -0.        ,   -0.        ,\n",
       "         224.98064201,   -0.        ]])"
      ]
     },
     "execution_count": 15,
     "metadata": {},
     "output_type": "execute_result"
    }
   ],
   "source": [
    "L1_ = ReLU(np.matmul(X_test[0,:].reshape(1,13), W1_) + b1_)\n",
    "L1_"
   ]
  },
  {
   "cell_type": "code",
   "execution_count": 19,
   "metadata": {},
   "outputs": [
    {
     "data": {
      "text/plain": [
       "array([[-0., -0., -0., -0., -0., -0.]])"
      ]
     },
     "execution_count": 19,
     "metadata": {},
     "output_type": "execute_result"
    }
   ],
   "source": [
    "L2_ = ReLU(np.matmul(L1_, W2_) + b2_)\n",
    "L2_"
   ]
  },
  {
   "cell_type": "code",
   "execution_count": 20,
   "metadata": {},
   "outputs": [
    {
     "data": {
      "text/plain": [
       "array([[22.28272214]])"
      ]
     },
     "execution_count": 20,
     "metadata": {},
     "output_type": "execute_result"
    }
   ],
   "source": [
    "H = np.matmul(L2_, W3_) + b3_\n",
    "H"
   ]
  },
  {
   "cell_type": "code",
   "execution_count": null,
   "metadata": {},
   "outputs": [],
   "source": []
  },
  {
   "cell_type": "code",
   "execution_count": null,
   "metadata": {},
   "outputs": [],
   "source": []
  },
  {
   "cell_type": "code",
   "execution_count": 4,
   "metadata": {},
   "outputs": [
    {
     "name": "stdout",
     "output_type": "stream",
     "text": [
      "Model: \"sequential\"\n",
      "_________________________________________________________________\n",
      "Layer (type)                 Output Shape              Param #   \n",
      "=================================================================\n",
      "dense (Dense)                (None, 30)                420       \n",
      "_________________________________________________________________\n",
      "dense_1 (Dense)              (None, 6)                 186       \n",
      "_________________________________________________________________\n",
      "dense_2 (Dense)              (None, 1)                 7         \n",
      "=================================================================\n",
      "Total params: 613\n",
      "Trainable params: 613\n",
      "Non-trainable params: 0\n",
      "_________________________________________________________________\n"
     ]
    }
   ],
   "source": [
    "model = Sequential([\n",
    "    Dense(30, input_dim=13, activation='relu'),\n",
    "    Dense(6, activation='relu'),\n",
    "    Dense(1)\n",
    "])\n",
    "model.summary()"
   ]
  },
  {
   "cell_type": "code",
   "execution_count": 6,
   "metadata": {},
   "outputs": [],
   "source": [
    "model.compile(loss='mean_squared_error', optimizer='adam')"
   ]
  },
  {
   "cell_type": "code",
   "execution_count": 7,
   "metadata": {},
   "outputs": [
    {
     "name": "stdout",
     "output_type": "stream",
     "text": [
      "Train on 354 samples\n",
      "Epoch 1/200\n",
      "354/354 [==============================] - 1s 3ms/sample - loss: 8288.7038\n",
      "Epoch 2/200\n",
      "354/354 [==============================] - 0s 318us/sample - loss: 670.3084\n",
      "Epoch 3/200\n",
      "354/354 [==============================] - 0s 310us/sample - loss: 498.1093\n",
      "Epoch 4/200\n",
      "354/354 [==============================] - 0s 327us/sample - loss: 379.1674\n",
      "Epoch 5/200\n",
      "354/354 [==============================] - 0s 386us/sample - loss: 252.3767\n",
      "Epoch 6/200\n",
      "354/354 [==============================] - 0s 414us/sample - loss: 166.6476\n",
      "Epoch 7/200\n",
      "354/354 [==============================] - 0s 406us/sample - loss: 135.1676\n",
      "Epoch 8/200\n",
      "354/354 [==============================] - 0s 394us/sample - loss: 123.5331\n",
      "Epoch 9/200\n",
      "354/354 [==============================] - 0s 378us/sample - loss: 115.3392\n",
      "Epoch 10/200\n",
      "354/354 [==============================] - 0s 347us/sample - loss: 93.0773\n",
      "Epoch 11/200\n",
      "354/354 [==============================] - 0s 335us/sample - loss: 76.3689\n",
      "Epoch 12/200\n",
      "354/354 [==============================] - 0s 361us/sample - loss: 70.9098\n",
      "Epoch 13/200\n",
      "354/354 [==============================] - 0s 341us/sample - loss: 69.8750\n",
      "Epoch 14/200\n",
      "354/354 [==============================] - 0s 352us/sample - loss: 66.7452\n",
      "Epoch 15/200\n",
      "354/354 [==============================] - 0s 358us/sample - loss: 65.0541\n",
      "Epoch 16/200\n",
      "354/354 [==============================] - 0s 338us/sample - loss: 65.2195\n",
      "Epoch 17/200\n",
      "354/354 [==============================] - 0s 352us/sample - loss: 63.4299\n",
      "Epoch 18/200\n",
      "354/354 [==============================] - 0s 361us/sample - loss: 62.6117\n",
      "Epoch 19/200\n",
      "354/354 [==============================] - 0s 344us/sample - loss: 61.2537\n",
      "Epoch 20/200\n",
      "354/354 [==============================] - 0s 361us/sample - loss: 60.3288\n",
      "Epoch 21/200\n",
      "354/354 [==============================] - 0s 375us/sample - loss: 59.4033\n",
      "Epoch 22/200\n",
      "354/354 [==============================] - 0s 380us/sample - loss: 59.9785\n",
      "Epoch 23/200\n",
      "354/354 [==============================] - 0s 355us/sample - loss: 58.5676\n",
      "Epoch 24/200\n",
      "354/354 [==============================] - 0s 349us/sample - loss: 58.0758\n",
      "Epoch 25/200\n",
      "354/354 [==============================] - 0s 335us/sample - loss: 56.9038\n",
      "Epoch 26/200\n",
      "354/354 [==============================] - 0s 349us/sample - loss: 56.6686\n",
      "Epoch 27/200\n",
      "354/354 [==============================] - 0s 355us/sample - loss: 56.2462\n",
      "Epoch 28/200\n",
      "354/354 [==============================] - 0s 366us/sample - loss: 54.0678\n",
      "Epoch 29/200\n",
      "354/354 [==============================] - 0s 363us/sample - loss: 54.6295\n",
      "Epoch 30/200\n",
      "354/354 [==============================] - 0s 352us/sample - loss: 53.9591\n",
      "Epoch 31/200\n",
      "354/354 [==============================] - 0s 352us/sample - loss: 53.2374\n",
      "Epoch 32/200\n",
      "354/354 [==============================] - 0s 411us/sample - loss: 52.1681\n",
      "Epoch 33/200\n",
      "354/354 [==============================] - 0s 428us/sample - loss: 52.2618\n",
      "Epoch 34/200\n",
      "354/354 [==============================] - 0s 383us/sample - loss: 50.9802\n",
      "Epoch 35/200\n",
      "354/354 [==============================] - 0s 363us/sample - loss: 50.6348\n",
      "Epoch 36/200\n",
      "354/354 [==============================] - 0s 372us/sample - loss: 50.5522\n",
      "Epoch 37/200\n",
      "354/354 [==============================] - 0s 394us/sample - loss: 49.0158\n",
      "Epoch 38/200\n",
      "354/354 [==============================] - 0s 358us/sample - loss: 49.1354\n",
      "Epoch 39/200\n",
      "354/354 [==============================] - 0s 363us/sample - loss: 47.7203\n",
      "Epoch 40/200\n",
      "354/354 [==============================] - 0s 397us/sample - loss: 47.1547\n",
      "Epoch 41/200\n",
      "354/354 [==============================] - 0s 369us/sample - loss: 46.1580\n",
      "Epoch 42/200\n",
      "354/354 [==============================] - 0s 363us/sample - loss: 47.6365\n",
      "Epoch 43/200\n",
      "354/354 [==============================] - 0s 363us/sample - loss: 45.0213\n",
      "Epoch 44/200\n",
      "354/354 [==============================] - 0s 409us/sample - loss: 45.0649\n",
      "Epoch 45/200\n",
      "354/354 [==============================] - 0s 378us/sample - loss: 45.8557\n",
      "Epoch 46/200\n",
      "354/354 [==============================] - 0s 361us/sample - loss: 43.5365\n",
      "Epoch 47/200\n",
      "354/354 [==============================] - 0s 361us/sample - loss: 42.5994\n",
      "Epoch 48/200\n",
      "354/354 [==============================] - 0s 369us/sample - loss: 41.9314\n",
      "Epoch 49/200\n",
      "354/354 [==============================] - 0s 355us/sample - loss: 42.8994\n",
      "Epoch 50/200\n",
      "354/354 [==============================] - 0s 355us/sample - loss: 41.8525\n",
      "Epoch 51/200\n",
      "354/354 [==============================] - 0s 363us/sample - loss: 41.8295\n",
      "Epoch 52/200\n",
      "354/354 [==============================] - 0s 386us/sample - loss: 40.1718\n",
      "Epoch 53/200\n",
      "354/354 [==============================] - 0s 378us/sample - loss: 40.3603\n",
      "Epoch 54/200\n",
      "354/354 [==============================] - 0s 363us/sample - loss: 39.8050\n",
      "Epoch 55/200\n",
      "354/354 [==============================] - 0s 349us/sample - loss: 39.9124\n",
      "Epoch 56/200\n",
      "354/354 [==============================] - 0s 352us/sample - loss: 38.5023\n",
      "Epoch 57/200\n",
      "354/354 [==============================] - 0s 406us/sample - loss: 37.7072\n",
      "Epoch 58/200\n",
      "354/354 [==============================] - 0s 414us/sample - loss: 37.3892\n",
      "Epoch 59/200\n",
      "354/354 [==============================] - 0s 386us/sample - loss: 37.8091\n",
      "Epoch 60/200\n",
      "354/354 [==============================] - 0s 380us/sample - loss: 37.3448\n",
      "Epoch 61/200\n",
      "354/354 [==============================] - 0s 355us/sample - loss: 36.3350\n",
      "Epoch 62/200\n",
      "354/354 [==============================] - 0s 352us/sample - loss: 37.1984\n",
      "Epoch 63/200\n",
      "354/354 [==============================] - 0s 361us/sample - loss: 34.5741\n",
      "Epoch 64/200\n",
      "354/354 [==============================] - 0s 375us/sample - loss: 37.2452\n",
      "Epoch 65/200\n",
      "354/354 [==============================] - 0s 375us/sample - loss: 33.9911\n",
      "Epoch 66/200\n",
      "354/354 [==============================] - 0s 349us/sample - loss: 34.7797\n",
      "Epoch 67/200\n",
      "354/354 [==============================] - 0s 352us/sample - loss: 33.5761\n",
      "Epoch 68/200\n",
      "354/354 [==============================] - 0s 389us/sample - loss: 33.1500\n",
      "Epoch 69/200\n",
      "354/354 [==============================] - 0s 375us/sample - loss: 33.7496\n",
      "Epoch 70/200\n",
      "354/354 [==============================] - 0s 358us/sample - loss: 32.8144\n",
      "Epoch 71/200\n",
      "354/354 [==============================] - 0s 352us/sample - loss: 34.3717\n",
      "Epoch 72/200\n",
      "354/354 [==============================] - 0s 355us/sample - loss: 31.6739\n",
      "Epoch 73/200\n",
      "354/354 [==============================] - 0s 369us/sample - loss: 31.4549\n",
      "Epoch 74/200\n",
      "354/354 [==============================] - 0s 355us/sample - loss: 32.6842\n",
      "Epoch 75/200\n",
      "354/354 [==============================] - 0s 355us/sample - loss: 31.0191\n",
      "Epoch 76/200\n",
      "354/354 [==============================] - 0s 352us/sample - loss: 30.0214\n",
      "Epoch 77/200\n",
      "354/354 [==============================] - 0s 366us/sample - loss: 30.0315\n",
      "Epoch 78/200\n",
      "354/354 [==============================] - 0s 344us/sample - loss: 30.2691\n",
      "Epoch 79/200\n",
      "354/354 [==============================] - 0s 361us/sample - loss: 29.5332\n",
      "Epoch 80/200\n",
      "354/354 [==============================] - 0s 352us/sample - loss: 29.9809\n",
      "Epoch 81/200\n",
      "354/354 [==============================] - 0s 355us/sample - loss: 29.0506\n",
      "Epoch 82/200\n",
      "354/354 [==============================] - 0s 378us/sample - loss: 29.0070\n",
      "Epoch 83/200\n",
      "354/354 [==============================] - 0s 406us/sample - loss: 28.5195\n",
      "Epoch 84/200\n",
      "354/354 [==============================] - 0s 431us/sample - loss: 28.1717\n",
      "Epoch 85/200\n",
      "354/354 [==============================] - 0s 372us/sample - loss: 28.8308\n",
      "Epoch 86/200\n",
      "354/354 [==============================] - 0s 366us/sample - loss: 31.9222\n",
      "Epoch 87/200\n",
      "354/354 [==============================] - 0s 397us/sample - loss: 29.1555\n",
      "Epoch 88/200\n",
      "354/354 [==============================] - 0s 386us/sample - loss: 27.0381\n",
      "Epoch 89/200\n",
      "354/354 [==============================] - 0s 352us/sample - loss: 28.0185\n",
      "Epoch 90/200\n",
      "354/354 [==============================] - 0s 369us/sample - loss: 27.3330\n",
      "Epoch 91/200\n",
      "354/354 [==============================] - 0s 363us/sample - loss: 30.0259\n",
      "Epoch 92/200\n",
      "354/354 [==============================] - 0s 341us/sample - loss: 26.3814\n",
      "Epoch 93/200\n",
      "354/354 [==============================] - 0s 352us/sample - loss: 26.8715\n",
      "Epoch 94/200\n",
      "354/354 [==============================] - 0s 355us/sample - loss: 29.0893\n",
      "Epoch 95/200\n",
      "354/354 [==============================] - 0s 347us/sample - loss: 29.2822\n",
      "Epoch 96/200\n",
      "354/354 [==============================] - 0s 338us/sample - loss: 28.1933\n",
      "Epoch 97/200\n",
      "354/354 [==============================] - 0s 355us/sample - loss: 26.5705\n",
      "Epoch 98/200\n",
      "354/354 [==============================] - 0s 335us/sample - loss: 25.9840\n",
      "Epoch 99/200\n",
      "354/354 [==============================] - 0s 335us/sample - loss: 26.7201\n",
      "Epoch 100/200\n",
      "354/354 [==============================] - 0s 355us/sample - loss: 25.2779\n",
      "Epoch 101/200\n",
      "354/354 [==============================] - 0s 344us/sample - loss: 25.1793\n",
      "Epoch 102/200\n",
      "354/354 [==============================] - 0s 327us/sample - loss: 25.7663\n",
      "Epoch 103/200\n",
      "354/354 [==============================] - 0s 332us/sample - loss: 25.5857\n",
      "Epoch 104/200\n",
      "354/354 [==============================] - 0s 349us/sample - loss: 24.8281\n",
      "Epoch 105/200\n",
      "354/354 [==============================] - 0s 332us/sample - loss: 24.7699\n",
      "Epoch 106/200\n",
      "354/354 [==============================] - 0s 332us/sample - loss: 24.6901\n",
      "Epoch 107/200\n",
      "354/354 [==============================] - 0s 349us/sample - loss: 23.9137\n",
      "Epoch 108/200\n",
      "354/354 [==============================] - 0s 344us/sample - loss: 25.1499\n",
      "Epoch 109/200\n",
      "354/354 [==============================] - 0s 389us/sample - loss: 23.1640\n",
      "Epoch 110/200\n",
      "354/354 [==============================] - 0s 378us/sample - loss: 23.7728\n",
      "Epoch 111/200\n",
      "354/354 [==============================] - 0s 389us/sample - loss: 27.4072\n",
      "Epoch 112/200\n",
      "354/354 [==============================] - 0s 355us/sample - loss: 24.3166\n",
      "Epoch 113/200\n",
      "354/354 [==============================] - 0s 358us/sample - loss: 26.2366\n",
      "Epoch 114/200\n",
      "354/354 [==============================] - 0s 347us/sample - loss: 23.8337\n",
      "Epoch 115/200\n",
      "354/354 [==============================] - 0s 335us/sample - loss: 24.1552\n",
      "Epoch 116/200\n",
      "354/354 [==============================] - 0s 375us/sample - loss: 23.2935\n",
      "Epoch 117/200\n",
      "354/354 [==============================] - 0s 363us/sample - loss: 24.2190\n",
      "Epoch 118/200\n",
      "354/354 [==============================] - 0s 352us/sample - loss: 23.8283\n",
      "Epoch 119/200\n",
      "354/354 [==============================] - 0s 332us/sample - loss: 24.3795\n",
      "Epoch 120/200\n",
      "354/354 [==============================] - 0s 355us/sample - loss: 27.6601\n",
      "Epoch 121/200\n",
      "354/354 [==============================] - 0s 349us/sample - loss: 22.7671\n",
      "Epoch 122/200\n",
      "354/354 [==============================] - 0s 344us/sample - loss: 23.2552\n",
      "Epoch 123/200\n",
      "354/354 [==============================] - 0s 355us/sample - loss: 22.4590\n",
      "Epoch 124/200\n",
      "354/354 [==============================] - 0s 341us/sample - loss: 21.8076\n",
      "Epoch 125/200\n",
      "354/354 [==============================] - 0s 335us/sample - loss: 22.7374\n",
      "Epoch 126/200\n",
      "354/354 [==============================] - 0s 347us/sample - loss: 24.6772\n",
      "Epoch 127/200\n",
      "354/354 [==============================] - 0s 363us/sample - loss: 23.2031\n",
      "Epoch 128/200\n",
      "354/354 [==============================] - 0s 352us/sample - loss: 21.4601\n",
      "Epoch 129/200\n",
      "354/354 [==============================] - 0s 347us/sample - loss: 21.5042\n",
      "Epoch 130/200\n",
      "354/354 [==============================] - 0s 358us/sample - loss: 21.5896\n",
      "Epoch 131/200\n",
      "354/354 [==============================] - 0s 349us/sample - loss: 22.0140\n",
      "Epoch 132/200\n",
      "354/354 [==============================] - 0s 363us/sample - loss: 21.6647\n",
      "Epoch 133/200\n",
      "354/354 [==============================] - 0s 355us/sample - loss: 20.7340\n",
      "Epoch 134/200\n",
      "354/354 [==============================] - 0s 344us/sample - loss: 21.1884\n",
      "Epoch 135/200\n",
      "354/354 [==============================] - 0s 366us/sample - loss: 20.9508\n",
      "Epoch 136/200\n",
      "354/354 [==============================] - 0s 409us/sample - loss: 20.6200\n",
      "Epoch 137/200\n",
      "354/354 [==============================] - 0s 440us/sample - loss: 21.2607\n",
      "Epoch 138/200\n",
      "354/354 [==============================] - 0s 383us/sample - loss: 21.3244\n",
      "Epoch 139/200\n",
      "354/354 [==============================] - 0s 363us/sample - loss: 20.4058\n",
      "Epoch 140/200\n",
      "354/354 [==============================] - 0s 349us/sample - loss: 19.7400\n",
      "Epoch 141/200\n",
      "354/354 [==============================] - 0s 344us/sample - loss: 21.8476\n",
      "Epoch 142/200\n",
      "354/354 [==============================] - 0s 352us/sample - loss: 20.6544\n",
      "Epoch 143/200\n",
      "354/354 [==============================] - 0s 358us/sample - loss: 20.4475\n",
      "Epoch 144/200\n",
      "354/354 [==============================] - 0s 341us/sample - loss: 20.0138\n",
      "Epoch 145/200\n",
      "354/354 [==============================] - 0s 347us/sample - loss: 20.5234\n",
      "Epoch 146/200\n",
      "354/354 [==============================] - 0s 347us/sample - loss: 19.6108\n",
      "Epoch 147/200\n",
      "354/354 [==============================] - 0s 400us/sample - loss: 20.9896\n",
      "Epoch 148/200\n",
      "354/354 [==============================] - 0s 369us/sample - loss: 19.0602\n",
      "Epoch 149/200\n",
      "354/354 [==============================] - 0s 355us/sample - loss: 22.7073\n",
      "Epoch 150/200\n",
      "354/354 [==============================] - 0s 349us/sample - loss: 20.2213\n",
      "Epoch 151/200\n",
      "354/354 [==============================] - 0s 341us/sample - loss: 21.0519\n",
      "Epoch 152/200\n",
      "354/354 [==============================] - 0s 347us/sample - loss: 21.0681\n",
      "Epoch 153/200\n",
      "354/354 [==============================] - 0s 347us/sample - loss: 19.0092\n",
      "Epoch 154/200\n",
      "354/354 [==============================] - 0s 341us/sample - loss: 19.3136\n",
      "Epoch 155/200\n",
      "354/354 [==============================] - 0s 358us/sample - loss: 19.3912\n",
      "Epoch 156/200\n",
      "354/354 [==============================] - 0s 352us/sample - loss: 20.1193\n",
      "Epoch 157/200\n",
      "354/354 [==============================] - 0s 349us/sample - loss: 19.0956\n",
      "Epoch 158/200\n",
      "354/354 [==============================] - 0s 347us/sample - loss: 20.1399\n",
      "Epoch 159/200\n",
      "354/354 [==============================] - 0s 344us/sample - loss: 19.0616\n",
      "Epoch 160/200\n",
      "354/354 [==============================] - 0s 338us/sample - loss: 19.8425\n",
      "Epoch 161/200\n",
      "354/354 [==============================] - 0s 369us/sample - loss: 18.3914\n",
      "Epoch 162/200\n",
      "354/354 [==============================] - 0s 403us/sample - loss: 18.1778\n",
      "Epoch 163/200\n",
      "354/354 [==============================] - 0s 392us/sample - loss: 18.2483\n",
      "Epoch 164/200\n",
      "354/354 [==============================] - 0s 358us/sample - loss: 18.7945\n",
      "Epoch 165/200\n",
      "354/354 [==============================] - 0s 355us/sample - loss: 18.5948\n",
      "Epoch 166/200\n",
      "354/354 [==============================] - 0s 352us/sample - loss: 18.6947\n",
      "Epoch 167/200\n",
      "354/354 [==============================] - 0s 347us/sample - loss: 18.7584\n",
      "Epoch 168/200\n",
      "354/354 [==============================] - 0s 369us/sample - loss: 19.7446\n",
      "Epoch 169/200\n",
      "354/354 [==============================] - 0s 341us/sample - loss: 18.8090\n",
      "Epoch 170/200\n",
      "354/354 [==============================] - 0s 344us/sample - loss: 18.8749\n",
      "Epoch 171/200\n",
      "354/354 [==============================] - 0s 349us/sample - loss: 18.2595\n",
      "Epoch 172/200\n",
      "354/354 [==============================] - 0s 344us/sample - loss: 19.8308\n",
      "Epoch 173/200\n",
      "354/354 [==============================] - 0s 335us/sample - loss: 18.6821\n",
      "Epoch 174/200\n",
      "354/354 [==============================] - 0s 347us/sample - loss: 18.7135\n",
      "Epoch 175/200\n",
      "354/354 [==============================] - 0s 344us/sample - loss: 20.1672\n",
      "Epoch 176/200\n",
      "354/354 [==============================] - 0s 347us/sample - loss: 17.7086\n",
      "Epoch 177/200\n",
      "354/354 [==============================] - 0s 358us/sample - loss: 18.9590\n",
      "Epoch 178/200\n",
      "354/354 [==============================] - 0s 349us/sample - loss: 19.8444\n",
      "Epoch 179/200\n",
      "354/354 [==============================] - 0s 361us/sample - loss: 17.9960\n",
      "Epoch 180/200\n",
      "354/354 [==============================] - 0s 386us/sample - loss: 19.0937\n",
      "Epoch 181/200\n",
      "354/354 [==============================] - 0s 363us/sample - loss: 18.1954\n",
      "Epoch 182/200\n",
      "354/354 [==============================] - 0s 375us/sample - loss: 17.2703\n",
      "Epoch 183/200\n",
      "354/354 [==============================] - 0s 349us/sample - loss: 17.6630\n",
      "Epoch 184/200\n",
      "354/354 [==============================] - 0s 335us/sample - loss: 18.6036\n",
      "Epoch 185/200\n"
     ]
    },
    {
     "name": "stdout",
     "output_type": "stream",
     "text": [
      "354/354 [==============================] - 0s 369us/sample - loss: 19.1292\n",
      "Epoch 186/200\n",
      "354/354 [==============================] - 0s 380us/sample - loss: 18.2614\n",
      "Epoch 187/200\n",
      "354/354 [==============================] - 0s 380us/sample - loss: 17.2866\n",
      "Epoch 188/200\n",
      "354/354 [==============================] - 0s 389us/sample - loss: 17.1631\n",
      "Epoch 189/200\n",
      "354/354 [==============================] - 0s 406us/sample - loss: 16.9712\n",
      "Epoch 190/200\n",
      "354/354 [==============================] - 0s 355us/sample - loss: 17.2057\n",
      "Epoch 191/200\n",
      "354/354 [==============================] - 0s 324us/sample - loss: 18.2261\n",
      "Epoch 192/200\n",
      "354/354 [==============================] - 0s 347us/sample - loss: 22.7555\n",
      "Epoch 193/200\n",
      "354/354 [==============================] - 0s 355us/sample - loss: 16.9408\n",
      "Epoch 194/200\n",
      "354/354 [==============================] - 0s 332us/sample - loss: 16.6988\n",
      "Epoch 195/200\n",
      "354/354 [==============================] - 0s 321us/sample - loss: 16.5898\n",
      "Epoch 196/200\n",
      "354/354 [==============================] - 0s 363us/sample - loss: 17.7786\n",
      "Epoch 197/200\n",
      "354/354 [==============================] - 0s 389us/sample - loss: 17.3755\n",
      "Epoch 198/200\n",
      "354/354 [==============================] - 0s 369us/sample - loss: 16.9992\n",
      "Epoch 199/200\n",
      "354/354 [==============================] - 0s 347us/sample - loss: 16.8569\n",
      "Epoch 200/200\n",
      "354/354 [==============================] - 0s 344us/sample - loss: 17.8330\n"
     ]
    },
    {
     "data": {
      "text/plain": [
       "<tensorflow.python.keras.callbacks.History at 0x1b08f9282c8>"
      ]
     },
     "execution_count": 7,
     "metadata": {},
     "output_type": "execute_result"
    }
   ],
   "source": [
    "model.fit(X_train, Y_train, epochs=200, batch_size=10)"
   ]
  },
  {
   "cell_type": "code",
   "execution_count": 8,
   "metadata": {},
   "outputs": [
    {
     "name": "stdout",
     "output_type": "stream",
     "text": [
      "실제가격: 22.600, 예상가격: 24.907\n",
      "실제가격: 50.000, 예상가격: 24.968\n",
      "실제가격: 23.000, 예상가격: 24.454\n",
      "실제가격: 8.300, 예상가격: 11.499\n",
      "실제가격: 21.200, 예상가격: 17.799\n",
      "실제가격: 19.900, 예상가격: 20.584\n",
      "실제가격: 20.600, 예상가격: 22.514\n",
      "실제가격: 18.700, 예상가격: 21.913\n",
      "실제가격: 16.100, 예상가격: 16.251\n",
      "실제가격: 18.600, 예상가격: 8.082\n"
     ]
    }
   ],
   "source": [
    "# 예측 값과 실제 값의 비교\n",
    "Y_prediction = model.predict(X_test).flatten()\n",
    "for i in range(10):\n",
    "    label = Y_test[i]\n",
    "    prediction = Y_prediction[i]\n",
    "    print(\"실제가격: {:.3f}, 예상가격: {:.3f}\".format(label, prediction))"
   ]
  },
  {
   "cell_type": "code",
   "execution_count": null,
   "metadata": {},
   "outputs": [],
   "source": []
  }
 ],
 "metadata": {
  "kernelspec": {
   "display_name": "Python 3",
   "language": "python",
   "name": "python3"
  },
  "language_info": {
   "codemirror_mode": {
    "name": "ipython",
    "version": 3
   },
   "file_extension": ".py",
   "mimetype": "text/x-python",
   "name": "python",
   "nbconvert_exporter": "python",
   "pygments_lexer": "ipython3",
   "version": "3.7.5"
  }
 },
 "nbformat": 4,
 "nbformat_minor": 2
}
