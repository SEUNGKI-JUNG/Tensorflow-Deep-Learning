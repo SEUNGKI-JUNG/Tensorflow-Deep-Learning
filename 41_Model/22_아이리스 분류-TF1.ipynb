{
 "cells": [
  {
   "cell_type": "markdown",
   "metadata": {},
   "source": [
    "## 아이리스 다중 분류"
   ]
  },
  {
   "cell_type": "code",
   "execution_count": 1,
   "metadata": {},
   "outputs": [
    {
     "name": "stdout",
     "output_type": "stream",
     "text": [
      "WARNING:tensorflow:From C:\\Users\\ckkim\\.conda\\envs\\tf2\\lib\\site-packages\\tensorflow_core\\python\\compat\\v2_compat.py:65: disable_resource_variables (from tensorflow.python.ops.variable_scope) is deprecated and will be removed in a future version.\n",
      "Instructions for updating:\n",
      "non-resource variables are not supported in the long term\n"
     ]
    }
   ],
   "source": [
    "import numpy as np\n",
    "import tensorflow.compat.v1 as tf\n",
    "tf.disable_v2_behavior()"
   ]
  },
  {
   "cell_type": "code",
   "execution_count": 2,
   "metadata": {},
   "outputs": [
    {
     "data": {
      "text/html": [
       "<div>\n",
       "<style scoped>\n",
       "    .dataframe tbody tr th:only-of-type {\n",
       "        vertical-align: middle;\n",
       "    }\n",
       "\n",
       "    .dataframe tbody tr th {\n",
       "        vertical-align: top;\n",
       "    }\n",
       "\n",
       "    .dataframe thead th {\n",
       "        text-align: right;\n",
       "    }\n",
       "</style>\n",
       "<table border=\"1\" class=\"dataframe\">\n",
       "  <thead>\n",
       "    <tr style=\"text-align: right;\">\n",
       "      <th></th>\n",
       "      <th>sepal_length</th>\n",
       "      <th>sepal_width</th>\n",
       "      <th>petal_length</th>\n",
       "      <th>petal_width</th>\n",
       "      <th>species</th>\n",
       "    </tr>\n",
       "  </thead>\n",
       "  <tbody>\n",
       "    <tr>\n",
       "      <th>0</th>\n",
       "      <td>5.1</td>\n",
       "      <td>3.5</td>\n",
       "      <td>1.4</td>\n",
       "      <td>0.2</td>\n",
       "      <td>Iris-setosa</td>\n",
       "    </tr>\n",
       "    <tr>\n",
       "      <th>1</th>\n",
       "      <td>4.9</td>\n",
       "      <td>3.0</td>\n",
       "      <td>1.4</td>\n",
       "      <td>0.2</td>\n",
       "      <td>Iris-setosa</td>\n",
       "    </tr>\n",
       "    <tr>\n",
       "      <th>2</th>\n",
       "      <td>4.7</td>\n",
       "      <td>3.2</td>\n",
       "      <td>1.3</td>\n",
       "      <td>0.2</td>\n",
       "      <td>Iris-setosa</td>\n",
       "    </tr>\n",
       "    <tr>\n",
       "      <th>3</th>\n",
       "      <td>4.6</td>\n",
       "      <td>3.1</td>\n",
       "      <td>1.5</td>\n",
       "      <td>0.2</td>\n",
       "      <td>Iris-setosa</td>\n",
       "    </tr>\n",
       "    <tr>\n",
       "      <th>4</th>\n",
       "      <td>5.0</td>\n",
       "      <td>3.6</td>\n",
       "      <td>1.4</td>\n",
       "      <td>0.2</td>\n",
       "      <td>Iris-setosa</td>\n",
       "    </tr>\n",
       "  </tbody>\n",
       "</table>\n",
       "</div>"
      ],
      "text/plain": [
       "   sepal_length  sepal_width  petal_length  petal_width      species\n",
       "0           5.1          3.5           1.4          0.2  Iris-setosa\n",
       "1           4.9          3.0           1.4          0.2  Iris-setosa\n",
       "2           4.7          3.2           1.3          0.2  Iris-setosa\n",
       "3           4.6          3.1           1.5          0.2  Iris-setosa\n",
       "4           5.0          3.6           1.4          0.2  Iris-setosa"
      ]
     },
     "execution_count": 2,
     "metadata": {},
     "output_type": "execute_result"
    }
   ],
   "source": [
    "import pandas as pd\n",
    "df = pd.read_csv('dataset/iris.csv', \n",
    "                 names = [\"sepal_length\", \"sepal_width\", \"petal_length\", \"petal_width\", \"species\"])\n",
    "df.head()"
   ]
  },
  {
   "cell_type": "code",
   "execution_count": 3,
   "metadata": {},
   "outputs": [
    {
     "data": {
      "text/plain": [
       "('Iris-setosa', 'Iris-versicolor', 'Iris-virginica')"
      ]
     },
     "execution_count": 3,
     "metadata": {},
     "output_type": "execute_result"
    }
   ],
   "source": [
    "dataset = df.values\n",
    "x_data = np.array(dataset[:,0:4], dtype=np.float32)\n",
    "Y_obj = dataset[:,4]\n",
    "Y_obj[0], Y_obj[50], Y_obj[100]"
   ]
  },
  {
   "cell_type": "code",
   "execution_count": 4,
   "metadata": {},
   "outputs": [
    {
     "data": {
      "text/html": [
       "<div>\n",
       "<style scoped>\n",
       "    .dataframe tbody tr th:only-of-type {\n",
       "        vertical-align: middle;\n",
       "    }\n",
       "\n",
       "    .dataframe tbody tr th {\n",
       "        vertical-align: top;\n",
       "    }\n",
       "\n",
       "    .dataframe thead th {\n",
       "        text-align: right;\n",
       "    }\n",
       "</style>\n",
       "<table border=\"1\" class=\"dataframe\">\n",
       "  <thead>\n",
       "    <tr style=\"text-align: right;\">\n",
       "      <th></th>\n",
       "      <th>Iris-setosa</th>\n",
       "      <th>Iris-versicolor</th>\n",
       "      <th>Iris-virginica</th>\n",
       "    </tr>\n",
       "  </thead>\n",
       "  <tbody>\n",
       "    <tr>\n",
       "      <th>0</th>\n",
       "      <td>1</td>\n",
       "      <td>0</td>\n",
       "      <td>0</td>\n",
       "    </tr>\n",
       "    <tr>\n",
       "      <th>1</th>\n",
       "      <td>1</td>\n",
       "      <td>0</td>\n",
       "      <td>0</td>\n",
       "    </tr>\n",
       "    <tr>\n",
       "      <th>2</th>\n",
       "      <td>1</td>\n",
       "      <td>0</td>\n",
       "      <td>0</td>\n",
       "    </tr>\n",
       "    <tr>\n",
       "      <th>3</th>\n",
       "      <td>1</td>\n",
       "      <td>0</td>\n",
       "      <td>0</td>\n",
       "    </tr>\n",
       "    <tr>\n",
       "      <th>4</th>\n",
       "      <td>1</td>\n",
       "      <td>0</td>\n",
       "      <td>0</td>\n",
       "    </tr>\n",
       "  </tbody>\n",
       "</table>\n",
       "</div>"
      ],
      "text/plain": [
       "   Iris-setosa  Iris-versicolor  Iris-virginica\n",
       "0            1                0               0\n",
       "1            1                0               0\n",
       "2            1                0               0\n",
       "3            1                0               0\n",
       "4            1                0               0"
      ]
     },
     "execution_count": 4,
     "metadata": {},
     "output_type": "execute_result"
    }
   ],
   "source": [
    "Y_obj = pd.get_dummies(Y_obj)\n",
    "Y_obj.head()"
   ]
  },
  {
   "cell_type": "code",
   "execution_count": 5,
   "metadata": {},
   "outputs": [
    {
     "data": {
      "text/plain": [
       "(pandas.core.frame.DataFrame, numpy.ndarray)"
      ]
     },
     "execution_count": 5,
     "metadata": {},
     "output_type": "execute_result"
    }
   ],
   "source": [
    "type(Y_obj), type(x_data)"
   ]
  },
  {
   "cell_type": "code",
   "execution_count": 6,
   "metadata": {},
   "outputs": [
    {
     "data": {
      "text/plain": [
       "(array([1., 0., 0.], dtype=float32),\n",
       " array([0., 1., 0.], dtype=float32),\n",
       " array([0., 0., 1.], dtype=float32))"
      ]
     },
     "execution_count": 6,
     "metadata": {},
     "output_type": "execute_result"
    }
   ],
   "source": [
    "y_data = np.array(Y_obj.values, dtype=np.float32)\n",
    "y_data[0], y_data[50], y_data[100]"
   ]
  },
  {
   "cell_type": "code",
   "execution_count": 7,
   "metadata": {},
   "outputs": [
    {
     "name": "stdout",
     "output_type": "stream",
     "text": [
      "(150, 4) (150, 3)\n"
     ]
    }
   ],
   "source": [
    "print(x_data.shape, y_data.shape)"
   ]
  },
  {
   "cell_type": "code",
   "execution_count": 8,
   "metadata": {},
   "outputs": [],
   "source": [
    "# seed 값 설정\n",
    "seed = 0\n",
    "tf.set_random_seed(seed)"
   ]
  },
  {
   "cell_type": "code",
   "execution_count": 9,
   "metadata": {},
   "outputs": [],
   "source": [
    "# 입력 값을 플레이스 홀더에 저장\n",
    "X = tf.placeholder(tf.float32, shape=[None, 4])\n",
    "Y = tf.placeholder(tf.float32, shape=[None, 3])"
   ]
  },
  {
   "cell_type": "code",
   "execution_count": 10,
   "metadata": {},
   "outputs": [],
   "source": [
    "# Layer 1\n",
    "W1 = tf.Variable(tf.random_normal([4,16], dtype=tf.float32)) \n",
    "b1 = tf.Variable(tf.random_normal([16], dtype=tf.float32))\n",
    "L1 = tf.nn.relu(tf.matmul(X, W1) + b1)"
   ]
  },
  {
   "cell_type": "code",
   "execution_count": 11,
   "metadata": {},
   "outputs": [],
   "source": [
    "# Layer 2\n",
    "W2 = tf.Variable(tf.random_normal([16,1], dtype=tf.float32)) \n",
    "b2 = tf.Variable(tf.random_normal([1], dtype=tf.float32))\n",
    "#logits = tf.matmul(L1, W2) + b2\n",
    "hypo = tf.nn.softmax(tf.matmul(L1, W2) + b2)"
   ]
  },
  {
   "cell_type": "code",
   "execution_count": 12,
   "metadata": {},
   "outputs": [],
   "source": [
    "# cross-entropy\n",
    "#cost = tf.reduce_mean(tf.nn.softmax_cross_entropy_with_logits(logits=logits, labels=y_data))\n",
    "cost = tf.reduce_mean(-tf.reduce_sum(Y * tf.log(hypo)))"
   ]
  },
  {
   "cell_type": "code",
   "execution_count": 15,
   "metadata": {},
   "outputs": [],
   "source": [
    "learning_rate = 0.1\n",
    "train = tf.train.AdamOptimizer(learning_rate).minimize(cost)\n",
    "#train = tf.train.GradientDescentOptimizer(learning_rate).minimize(cost)"
   ]
  },
  {
   "cell_type": "code",
   "execution_count": 16,
   "metadata": {},
   "outputs": [
    {
     "name": "stdout",
     "output_type": "stream",
     "text": [
      "step=1, \tcost_val=-0.00000\n",
      "step=11, \tcost_val=-0.00000\n",
      "step=21, \tcost_val=-0.00000\n",
      "step=31, \tcost_val=-0.00000\n",
      "step=41, \tcost_val=-0.00000\n",
      "step=51, \tcost_val=-0.00000\n"
     ]
    }
   ],
   "source": [
    "# 학습\n",
    "sess = tf.Session()\n",
    "sess.run(tf.global_variables_initializer())\n",
    "\n",
    "for epoch in range(51):\n",
    "    sess.run(train, feed_dict = {X: x_data, Y: y_data})\n",
    "    if epoch % 10 == 0:\n",
    "        cost_val = sess.run(cost, feed_dict = {X: x_data, Y: y_data})\n",
    "        print(\"step=%d, \\tcost_val=%.5f\" % (epoch + 1, cost_val))"
   ]
  },
  {
   "cell_type": "code",
   "execution_count": 17,
   "metadata": {},
   "outputs": [],
   "source": [
    "predict = tf.equal(tf.argmax(y_data, 1), tf.argmax(hypo, 1))\n",
    "accuracy = tf.reduce_mean(tf.cast(predict, dtype=tf.float64))"
   ]
  },
  {
   "cell_type": "code",
   "execution_count": 18,
   "metadata": {},
   "outputs": [
    {
     "name": "stdout",
     "output_type": "stream",
     "text": [
      "Accuracy: 0.3333\n"
     ]
    }
   ],
   "source": [
    "acc = sess.run(accuracy, feed_dict = {X: x_data, Y: y_data})\n",
    "print(\"Accuracy: %.4f\" % acc)"
   ]
  },
  {
   "cell_type": "code",
   "execution_count": null,
   "metadata": {},
   "outputs": [],
   "source": []
  },
  {
   "cell_type": "code",
   "execution_count": 13,
   "metadata": {},
   "outputs": [
    {
     "name": "stdout",
     "output_type": "stream",
     "text": [
      "Model: \"sequential\"\n",
      "_________________________________________________________________\n",
      "Layer (type)                 Output Shape              Param #   \n",
      "=================================================================\n",
      "dense (Dense)                (None, 16)                80        \n",
      "_________________________________________________________________\n",
      "dense_1 (Dense)              (None, 3)                 51        \n",
      "=================================================================\n",
      "Total params: 131\n",
      "Trainable params: 131\n",
      "Non-trainable params: 0\n",
      "_________________________________________________________________\n"
     ]
    }
   ],
   "source": [
    "# 딥러닝 모델 설정\n",
    "model = Sequential([\n",
    "    Dense(16, input_shape=(4,), activation='relu'),\n",
    "    Dense(3, activation='softmax')\n",
    "])\n",
    "model.summary()"
   ]
  },
  {
   "cell_type": "code",
   "execution_count": 14,
   "metadata": {},
   "outputs": [],
   "source": [
    "# 모델 컴파일 \n",
    "model.compile(loss='categorical_crossentropy', \n",
    "              optimizer='adam',\n",
    "              metrics=['accuracy'])"
   ]
  },
  {
   "cell_type": "code",
   "execution_count": 18,
   "metadata": {},
   "outputs": [
    {
     "name": "stdout",
     "output_type": "stream",
     "text": [
      "Train on 150 samples\n",
      "Epoch 1/50\n",
      "150/150 [==============================] - 0s 246us/sample - loss: 0.2945 - accuracy: 0.9667\n",
      "Epoch 2/50\n",
      "150/150 [==============================] - 0s 220us/sample - loss: 0.2896 - accuracy: 0.9800\n",
      "Epoch 3/50\n",
      "150/150 [==============================] - 0s 246us/sample - loss: 0.2861 - accuracy: 0.9733\n",
      "Epoch 4/50\n",
      "150/150 [==============================] - 0s 246us/sample - loss: 0.2816 - accuracy: 0.9733\n",
      "Epoch 5/50\n",
      "150/150 [==============================] - 0s 246us/sample - loss: 0.2799 - accuracy: 0.9800\n",
      "Epoch 6/50\n",
      "150/150 [==============================] - 0s 239us/sample - loss: 0.2748 - accuracy: 0.9667\n",
      "Epoch 7/50\n",
      "150/150 [==============================] - 0s 247us/sample - loss: 0.2726 - accuracy: 0.9800\n",
      "Epoch 8/50\n",
      "150/150 [==============================] - 0s 246us/sample - loss: 0.2655 - accuracy: 0.9800\n",
      "Epoch 9/50\n",
      "150/150 [==============================] - 0s 246us/sample - loss: 0.2635 - accuracy: 0.9733\n",
      "Epoch 10/50\n",
      "150/150 [==============================] - 0s 240us/sample - loss: 0.2590 - accuracy: 0.9733\n",
      "Epoch 11/50\n",
      "150/150 [==============================] - 0s 246us/sample - loss: 0.2554 - accuracy: 0.9733\n",
      "Epoch 12/50\n",
      "150/150 [==============================] - 0s 233us/sample - loss: 0.2518 - accuracy: 0.9800\n",
      "Epoch 13/50\n",
      "150/150 [==============================] - 0s 239us/sample - loss: 0.2492 - accuracy: 0.9800\n",
      "Epoch 14/50\n",
      "150/150 [==============================] - 0s 233us/sample - loss: 0.2476 - accuracy: 0.9733\n",
      "Epoch 15/50\n",
      "150/150 [==============================] - 0s 233us/sample - loss: 0.2426 - accuracy: 0.9800\n",
      "Epoch 16/50\n",
      "150/150 [==============================] - 0s 219us/sample - loss: 0.2395 - accuracy: 0.9800\n",
      "Epoch 17/50\n",
      "150/150 [==============================] - 0s 219us/sample - loss: 0.2410 - accuracy: 0.9733\n",
      "Epoch 18/50\n",
      "150/150 [==============================] - 0s 220us/sample - loss: 0.2342 - accuracy: 0.9800\n",
      "Epoch 19/50\n",
      "150/150 [==============================] - 0s 213us/sample - loss: 0.2309 - accuracy: 0.9800\n",
      "Epoch 20/50\n",
      "150/150 [==============================] - 0s 233us/sample - loss: 0.2273 - accuracy: 0.9800\n",
      "Epoch 21/50\n",
      "150/150 [==============================] - 0s 206us/sample - loss: 0.2261 - accuracy: 0.9733\n",
      "Epoch 22/50\n",
      "150/150 [==============================] - 0s 206us/sample - loss: 0.2222 - accuracy: 0.9733\n",
      "Epoch 23/50\n",
      "150/150 [==============================] - 0s 199us/sample - loss: 0.2206 - accuracy: 0.9733\n",
      "Epoch 24/50\n",
      "150/150 [==============================] - 0s 206us/sample - loss: 0.2171 - accuracy: 0.9733\n",
      "Epoch 25/50\n",
      "150/150 [==============================] - 0s 206us/sample - loss: 0.2142 - accuracy: 0.9800\n",
      "Epoch 26/50\n",
      "150/150 [==============================] - 0s 193us/sample - loss: 0.2117 - accuracy: 0.9800\n",
      "Epoch 27/50\n",
      "150/150 [==============================] - 0s 213us/sample - loss: 0.2094 - accuracy: 0.9733\n",
      "Epoch 28/50\n",
      "150/150 [==============================] - 0s 246us/sample - loss: 0.2068 - accuracy: 0.9800\n",
      "Epoch 29/50\n",
      "150/150 [==============================] - 0s 233us/sample - loss: 0.2045 - accuracy: 0.9800\n",
      "Epoch 30/50\n",
      "150/150 [==============================] - 0s 246us/sample - loss: 0.2026 - accuracy: 0.9733\n",
      "Epoch 31/50\n",
      "150/150 [==============================] - 0s 206us/sample - loss: 0.1992 - accuracy: 0.9800\n",
      "Epoch 32/50\n",
      "150/150 [==============================] - 0s 199us/sample - loss: 0.1983 - accuracy: 0.9800\n",
      "Epoch 33/50\n",
      "150/150 [==============================] - 0s 206us/sample - loss: 0.1949 - accuracy: 0.9800\n",
      "Epoch 34/50\n",
      "150/150 [==============================] - 0s 204us/sample - loss: 0.1962 - accuracy: 0.9667\n",
      "Epoch 35/50\n",
      "150/150 [==============================] - 0s 206us/sample - loss: 0.1888 - accuracy: 0.9800\n",
      "Epoch 36/50\n",
      "150/150 [==============================] - 0s 205us/sample - loss: 0.1887 - accuracy: 0.9800\n",
      "Epoch 37/50\n",
      "150/150 [==============================] - 0s 213us/sample - loss: 0.1870 - accuracy: 0.9800\n",
      "Epoch 38/50\n",
      "150/150 [==============================] - 0s 219us/sample - loss: 0.1844 - accuracy: 0.9800\n",
      "Epoch 39/50\n",
      "150/150 [==============================] - 0s 206us/sample - loss: 0.1824 - accuracy: 0.9800\n",
      "Epoch 40/50\n",
      "150/150 [==============================] - 0s 226us/sample - loss: 0.1813 - accuracy: 0.9733\n",
      "Epoch 41/50\n",
      "150/150 [==============================] - 0s 213us/sample - loss: 0.1786 - accuracy: 0.9800\n",
      "Epoch 42/50\n",
      "150/150 [==============================] - 0s 219us/sample - loss: 0.1775 - accuracy: 0.9800\n",
      "Epoch 43/50\n",
      "150/150 [==============================] - 0s 226us/sample - loss: 0.1766 - accuracy: 0.9733\n",
      "Epoch 44/50\n",
      "150/150 [==============================] - 0s 219us/sample - loss: 0.1736 - accuracy: 0.9733\n",
      "Epoch 45/50\n",
      "150/150 [==============================] - 0s 226us/sample - loss: 0.1726 - accuracy: 0.9800\n",
      "Epoch 46/50\n",
      "150/150 [==============================] - 0s 219us/sample - loss: 0.1696 - accuracy: 0.9800\n",
      "Epoch 47/50\n",
      "150/150 [==============================] - 0s 210us/sample - loss: 0.1692 - accuracy: 0.9733\n",
      "Epoch 48/50\n",
      "150/150 [==============================] - 0s 211us/sample - loss: 0.1665 - accuracy: 0.9800\n",
      "Epoch 49/50\n",
      "150/150 [==============================] - 0s 213us/sample - loss: 0.1646 - accuracy: 0.9800\n",
      "Epoch 50/50\n",
      "150/150 [==============================] - 0s 199us/sample - loss: 0.1641 - accuracy: 0.9733\n"
     ]
    },
    {
     "data": {
      "text/plain": [
       "<tensorflow.python.keras.callbacks.History at 0x27616c100c8>"
      ]
     },
     "execution_count": 18,
     "metadata": {},
     "output_type": "execute_result"
    }
   ],
   "source": [
    "# 모델 실행\n",
    "model.fit(X, Y_encoded, epochs=50, batch_size=10)"
   ]
  },
  {
   "cell_type": "code",
   "execution_count": 19,
   "metadata": {},
   "outputs": [
    {
     "name": "stdout",
     "output_type": "stream",
     "text": [
      "\n",
      " Accuracy: 0.9733\n"
     ]
    }
   ],
   "source": [
    "# 결과 출력 \n",
    "print(\"\\n Accuracy: %.4f\" % (model.evaluate(X, Y_encoded, verbose=0)[1]))"
   ]
  },
  {
   "cell_type": "code",
   "execution_count": null,
   "metadata": {},
   "outputs": [],
   "source": []
  }
 ],
 "metadata": {
  "kernelspec": {
   "display_name": "Python 3",
   "language": "python",
   "name": "python3"
  },
  "language_info": {
   "codemirror_mode": {
    "name": "ipython",
    "version": 3
   },
   "file_extension": ".py",
   "mimetype": "text/x-python",
   "name": "python",
   "nbconvert_exporter": "python",
   "pygments_lexer": "ipython3",
   "version": "3.7.5"
  }
 },
 "nbformat": 4,
 "nbformat_minor": 2
}
