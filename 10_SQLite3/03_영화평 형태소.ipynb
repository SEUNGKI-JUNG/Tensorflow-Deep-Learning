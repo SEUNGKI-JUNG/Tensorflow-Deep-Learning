{
 "cells": [
  {
   "cell_type": "markdown",
   "metadata": {},
   "source": [
    "# 네이버 영화평(알라딘)에 나온 형태소 SQLite DB에 저장\n",
    "- 영화평에 나온 형태소 추출\n",
    "- Okt 형태소 분석\n",
    "- 형태소, 품사, 나온횟수 DB에 저장하기"
   ]
  },
  {
   "cell_type": "code",
   "execution_count": 1,
   "metadata": {},
   "outputs": [],
   "source": [
    "import numpy as np\n",
    "import pandas as pd\n",
    "import sqlite3"
   ]
  },
  {
   "cell_type": "code",
   "execution_count": 3,
   "metadata": {},
   "outputs": [
    {
     "data": {
      "text/html": [
       "<div>\n",
       "<style scoped>\n",
       "    .dataframe tbody tr th:only-of-type {\n",
       "        vertical-align: middle;\n",
       "    }\n",
       "\n",
       "    .dataframe tbody tr th {\n",
       "        vertical-align: top;\n",
       "    }\n",
       "\n",
       "    .dataframe thead th {\n",
       "        text-align: right;\n",
       "    }\n",
       "</style>\n",
       "<table border=\"1\" class=\"dataframe\">\n",
       "  <thead>\n",
       "    <tr style=\"text-align: right;\">\n",
       "      <th></th>\n",
       "      <th>point</th>\n",
       "      <th>review</th>\n",
       "      <th>date</th>\n",
       "    </tr>\n",
       "  </thead>\n",
       "  <tbody>\n",
       "    <tr>\n",
       "      <td>0</td>\n",
       "      <td>10</td>\n",
       "      <td>윌 스미스가 하드캐리하여 의도치 않게 원작을 뛰어넘은 실사영화</td>\n",
       "      <td>2019.05.23 11:26</td>\n",
       "    </tr>\n",
       "    <tr>\n",
       "      <td>1</td>\n",
       "      <td>10</td>\n",
       "      <td>영화가 너무 아름답다..ost도 잊혀지지 안고 디즈니 실사중에서 최고중에 최고다 쟈...</td>\n",
       "      <td>2019.05.23 09:11</td>\n",
       "    </tr>\n",
       "    <tr>\n",
       "      <td>2</td>\n",
       "      <td>10</td>\n",
       "      <td>존잼임... 난 처음 도입부에 아~라~비안 나~잇 이 부분에서부터 감동받아서 울 뻔...</td>\n",
       "      <td>2019.05.23 21:57</td>\n",
       "    </tr>\n",
       "    <tr>\n",
       "      <td>3</td>\n",
       "      <td>10</td>\n",
       "      <td>자스민의 speechless 명장면이고 덤으로 윌 스미스의 연기력 또한 매우 굿~~</td>\n",
       "      <td>2019.05.23 12:55</td>\n",
       "    </tr>\n",
       "    <tr>\n",
       "      <td>4</td>\n",
       "      <td>10</td>\n",
       "      <td>A whole new world 나올때때 개소름...</td>\n",
       "      <td>2019.05.23 09:06</td>\n",
       "    </tr>\n",
       "  </tbody>\n",
       "</table>\n",
       "</div>"
      ],
      "text/plain": [
       "   point                                             review              date\n",
       "0     10                 윌 스미스가 하드캐리하여 의도치 않게 원작을 뛰어넘은 실사영화  2019.05.23 11:26\n",
       "1     10  영화가 너무 아름답다..ost도 잊혀지지 안고 디즈니 실사중에서 최고중에 최고다 쟈...  2019.05.23 09:11\n",
       "2     10  존잼임... 난 처음 도입부에 아~라~비안 나~잇 이 부분에서부터 감동받아서 울 뻔...  2019.05.23 21:57\n",
       "3     10     자스민의 speechless 명장면이고 덤으로 윌 스미스의 연기력 또한 매우 굿~~  2019.05.23 12:55\n",
       "4     10                      A whole new world 나올때때 개소름...  2019.05.23 09:06"
      ]
     },
     "execution_count": 3,
     "metadata": {},
     "output_type": "execute_result"
    }
   ],
   "source": [
    "df = pd.read_excel('../01_TextMining/data/04.NaverMovie_Aladdin.xlsx')\n",
    "df.drop(df.columns[0], axis='columns', inplace=True)\n",
    "df.head()"
   ]
  },
  {
   "cell_type": "code",
   "execution_count": 4,
   "metadata": {},
   "outputs": [
    {
     "data": {
      "text/plain": [
       "(26440,)"
      ]
     },
     "execution_count": 4,
     "metadata": {},
     "output_type": "execute_result"
    }
   ],
   "source": [
    "reviews = df['review']\n",
    "reviews.shape"
   ]
  },
  {
   "cell_type": "code",
   "execution_count": 5,
   "metadata": {},
   "outputs": [],
   "source": [
    "conn = sqlite3.connect('./test.db') \n",
    "cur = conn.cursor()"
   ]
  },
  {
   "cell_type": "code",
   "execution_count": 6,
   "metadata": {},
   "outputs": [
    {
     "data": {
      "text/plain": [
       "<sqlite3.Cursor at 0x1f37b5dec00>"
      ]
     },
     "execution_count": 6,
     "metadata": {},
     "output_type": "execute_result"
    }
   ],
   "source": [
    "cur = conn.cursor()\n",
    "cur.execute('CREATE TABLE IF NOT EXISTS Movie_reviews \\\n",
    "    (word TEXT, \\\n",
    "     pos TEXT, \\\n",
    "     count INT, \\\n",
    "     PRIMARY KEY(word, pos));')"
   ]
  },
  {
   "cell_type": "code",
   "execution_count": 7,
   "metadata": {},
   "outputs": [
    {
     "name": "stderr",
     "output_type": "stream",
     "text": [
      "C:\\ProgramData\\Anaconda3\\lib\\site-packages\\jpype\\_core.py:210: UserWarning: \n",
      "-------------------------------------------------------------------------------\n",
      "Deprecated: convertStrings was not specified when starting the JVM. The default\n",
      "behavior in JPype will be False starting in JPype 0.8. The recommended setting\n",
      "for new code is convertStrings=False.  The legacy value of True was assumed for\n",
      "this session. If you are a user of an application that reported this warning,\n",
      "please file a ticket with the developer.\n",
      "-------------------------------------------------------------------------------\n",
      "\n",
      "  \"\"\")\n"
     ]
    }
   ],
   "source": [
    "from konlpy.tag import Okt\n",
    "okt = Okt()"
   ]
  },
  {
   "cell_type": "code",
   "execution_count": 8,
   "metadata": {},
   "outputs": [
    {
     "data": {
      "text/plain": [
       "[('윌', 'Noun'),\n",
       " ('스미스', 'Noun'),\n",
       " ('가', 'Josa'),\n",
       " ('하드캐리', 'Noun'),\n",
       " ('하여', 'Verb'),\n",
       " ('의도', 'Noun'),\n",
       " ('치', 'Noun'),\n",
       " ('않게', 'Verb'),\n",
       " ('원작', 'Noun'),\n",
       " ('을', 'Josa'),\n",
       " ('뛰어넘은', 'Verb'),\n",
       " ('실사영화', 'Noun')]"
      ]
     },
     "execution_count": 8,
     "metadata": {},
     "output_type": "execute_result"
    }
   ],
   "source": [
    "morphs = okt.pos(str(reviews[0]))\n",
    "morphs"
   ]
  },
  {
   "cell_type": "code",
   "execution_count": 10,
   "metadata": {},
   "outputs": [],
   "source": [
    "# Test용 데이터 입력\n",
    "cur.execute(\"INSERT INTO Movie_reviews VALUES('윌', 'Noun', 1);\")\n",
    "conn.commit()"
   ]
  },
  {
   "cell_type": "code",
   "execution_count": 30,
   "metadata": {},
   "outputs": [
    {
     "name": "stdout",
     "output_type": "stream",
     "text": [
      "704\n"
     ]
    }
   ],
   "source": [
    "# Test용 데이터 조회\n",
    "sql = \"SELECT count FROM Movie_reviews WHERE word like ? and pos like ?;\"\n",
    "cur.execute(sql, ('윌', 'Noun'))\n",
    "count, = cur.fetchone()\n",
    "print(count)"
   ]
  },
  {
   "cell_type": "code",
   "execution_count": 27,
   "metadata": {},
   "outputs": [],
   "source": [
    "# Test용 데이터 삭제\n",
    "cur.execute(\"DELETE FROM Movie_reviews WHERE word like '윌';\")\n",
    "conn.commit()"
   ]
  },
  {
   "cell_type": "code",
   "execution_count": 15,
   "metadata": {},
   "outputs": [],
   "source": [
    "def countMorph(word, pos):    \n",
    "    count = 0\n",
    "    try:\n",
    "        cur = conn.cursor()\n",
    "        sql = \"SELECT count FROM Movie_reviews WHERE word like ? and pos like ?\"\n",
    "        cur.execute(sql, (word, pos))\n",
    "        count, = cur.fetchone()\n",
    "    except TypeError as te:\n",
    "        count = 0\n",
    "    except Exception as e: \n",
    "        print('예외가 발생했습니다.', e)\n",
    "        count = -1\n",
    "    finally:\n",
    "        return count"
   ]
  },
  {
   "cell_type": "code",
   "execution_count": 21,
   "metadata": {},
   "outputs": [
    {
     "name": "stdout",
     "output_type": "stream",
     "text": [
      "0\n",
      "0\n"
     ]
    },
    {
     "data": {
      "text/plain": [
       "0"
      ]
     },
     "execution_count": 21,
     "metadata": {},
     "output_type": "execute_result"
    }
   ],
   "source": [
    "print(countMorph('윌', 'Noun'))\n",
    "print(countMorph('원작', 'Noun'))\n",
    "x = ('윌', 'Noun')\n",
    "countMorph(*x)"
   ]
  },
  {
   "cell_type": "code",
   "execution_count": 22,
   "metadata": {},
   "outputs": [],
   "source": [
    "def insertMorph(word, pos, count):\n",
    "    cur = conn.cursor()\n",
    "    sql = \"INSERT INTO Movie_reviews VALUES(?, ?, ?);\"\n",
    "    cur.execute(sql, (word, pos, count))\n",
    "    conn.commit()"
   ]
  },
  {
   "cell_type": "code",
   "execution_count": 23,
   "metadata": {},
   "outputs": [],
   "source": [
    "insertMorph(*x, 1)"
   ]
  },
  {
   "cell_type": "code",
   "execution_count": 25,
   "metadata": {},
   "outputs": [],
   "source": [
    "def updateMorph(word, pos, count):\n",
    "    cur = conn.cursor()\n",
    "    sql = \"UPDATE Movie_reviews SET count=? WHERE word like ? and pos like ?;\"\n",
    "    cur.execute(sql, (count, word, pos))\n",
    "    conn.commit()"
   ]
  },
  {
   "cell_type": "code",
   "execution_count": 26,
   "metadata": {},
   "outputs": [],
   "source": [
    "updateMorph(*x, 2)"
   ]
  },
  {
   "cell_type": "code",
   "execution_count": 29,
   "metadata": {},
   "outputs": [
    {
     "name": "stdout",
     "output_type": "stream",
     "text": [
      "1000 2000 3000 4000 5000 6000 7000 8000 9000 10000 11000 12000 13000 14000 15000 16000 17000 18000 19000 20000 21000 22000 23000 24000 25000 26000 "
     ]
    }
   ],
   "source": [
    "i = 1\n",
    "for review in reviews:\n",
    "    if i % 1000 == 0:\n",
    "        print(i, end=' ')\n",
    "    i += 1\n",
    "    morphs = okt.pos(str(review))\n",
    "    for morph in morphs:\n",
    "        if morph[1] in [\"Josa\", \"Eomi\", \"Punctuation\"]:\n",
    "            continue\n",
    "        count = countMorph(*morph)     # Unpacking\n",
    "        if count == 0:                 # 신규 등록\n",
    "            insertMorph(*morph, 1)\n",
    "        elif count > 0:                # count update\n",
    "            updateMorph(*morph, count+1)\n",
    "        else:\n",
    "            print('DB Error!!!')"
   ]
  },
  {
   "cell_type": "code",
   "execution_count": 31,
   "metadata": {},
   "outputs": [
    {
     "name": "stdout",
     "output_type": "stream",
     "text": [
      "23977\n"
     ]
    }
   ],
   "source": [
    "cur = conn.cursor()\n",
    "sql = \"SELECT count(*) FROM Movie_reviews;\"\n",
    "cur.execute(sql)\n",
    "count, = cur.fetchone()\n",
    "print(count)"
   ]
  },
  {
   "cell_type": "code",
   "execution_count": 32,
   "metadata": {},
   "outputs": [
    {
     "name": "stdout",
     "output_type": "stream",
     "text": [
      "('영화', 'Noun', 9609)\n",
      "('너무', 'Adverb', 7616)\n",
      "('노래', 'Noun', 3302)\n",
      "('진짜', 'Noun', 3276)\n",
      "('최고', 'Noun', 3273)\n",
      "('들', 'Suffix', 3063)\n",
      "('알라딘', 'Noun', 2897)\n",
      "('지니', 'Noun', 2404)\n",
      "('윌스미스', 'Noun', 2320)\n",
      "('디즈니', 'Noun', 2246)\n"
     ]
    }
   ],
   "source": [
    "cur = conn.cursor()\n",
    "sql = \"SELECT * FROM Movie_reviews ORDER BY count DESC LIMIT 10;\"\n",
    "cur.execute(sql)\n",
    "rows = cur.fetchall()\n",
    "for row in rows:\n",
    "    print(row)"
   ]
  },
  {
   "cell_type": "code",
   "execution_count": 33,
   "metadata": {},
   "outputs": [
    {
     "data": {
      "text/html": [
       "<div>\n",
       "<style scoped>\n",
       "    .dataframe tbody tr th:only-of-type {\n",
       "        vertical-align: middle;\n",
       "    }\n",
       "\n",
       "    .dataframe tbody tr th {\n",
       "        vertical-align: top;\n",
       "    }\n",
       "\n",
       "    .dataframe thead th {\n",
       "        text-align: right;\n",
       "    }\n",
       "</style>\n",
       "<table border=\"1\" class=\"dataframe\">\n",
       "  <thead>\n",
       "    <tr style=\"text-align: right;\">\n",
       "      <th></th>\n",
       "      <th>형태소</th>\n",
       "      <th>품사</th>\n",
       "      <th>등장횟수</th>\n",
       "    </tr>\n",
       "  </thead>\n",
       "  <tbody>\n",
       "    <tr>\n",
       "      <td>0</td>\n",
       "      <td>윌</td>\n",
       "      <td>Noun</td>\n",
       "      <td>704</td>\n",
       "    </tr>\n",
       "    <tr>\n",
       "      <td>1</td>\n",
       "      <td>스미스</td>\n",
       "      <td>Noun</td>\n",
       "      <td>810</td>\n",
       "    </tr>\n",
       "    <tr>\n",
       "      <td>2</td>\n",
       "      <td>하드캐리</td>\n",
       "      <td>Noun</td>\n",
       "      <td>405</td>\n",
       "    </tr>\n",
       "    <tr>\n",
       "      <td>3</td>\n",
       "      <td>하여</td>\n",
       "      <td>Verb</td>\n",
       "      <td>33</td>\n",
       "    </tr>\n",
       "    <tr>\n",
       "      <td>4</td>\n",
       "      <td>의도</td>\n",
       "      <td>Noun</td>\n",
       "      <td>18</td>\n",
       "    </tr>\n",
       "  </tbody>\n",
       "</table>\n",
       "</div>"
      ],
      "text/plain": [
       "    형태소    품사 등장횟수\n",
       "0     윌  Noun  704\n",
       "1   스미스  Noun  810\n",
       "2  하드캐리  Noun  405\n",
       "3    하여  Verb   33\n",
       "4    의도  Noun   18"
      ]
     },
     "execution_count": 33,
     "metadata": {},
     "output_type": "execute_result"
    }
   ],
   "source": [
    "sql = \"SELECT * FROM Movie_reviews;\"\n",
    "cur = conn.cursor()\n",
    "cur.execute(sql)\n",
    "rows = cur.fetchall();\n",
    "columnName = ['형태소', '품사', '등장횟수']\n",
    "df = pd.DataFrame(columns = columnName)\n",
    "for row in rows:\n",
    "    df = df.append(pd.DataFrame([list(row)], columns = columnName), \n",
    "                   ignore_index=True)\n",
    "df.head()"
   ]
  },
  {
   "cell_type": "code",
   "execution_count": 48,
   "metadata": {},
   "outputs": [],
   "source": [
    "conn.close()"
   ]
  },
  {
   "cell_type": "code",
   "execution_count": 35,
   "metadata": {},
   "outputs": [
    {
     "data": {
      "text/plain": [
       "23677"
      ]
     },
     "execution_count": 35,
     "metadata": {},
     "output_type": "execute_result"
    }
   ],
   "source": [
    "setMorphs = set(df['형태소'])\n",
    "len(setMorphs)"
   ]
  },
  {
   "cell_type": "code",
   "execution_count": 42,
   "metadata": {},
   "outputs": [],
   "source": [
    "# 같은 형태소, 다른 품사\n",
    "length = len(df)\n",
    "zeros = np.zeros(length, dtype = np.int32)\n",
    "df['동일형태소'] = zeros.T"
   ]
  },
  {
   "cell_type": "code",
   "execution_count": 39,
   "metadata": {},
   "outputs": [
    {
     "data": {
      "text/html": [
       "<div>\n",
       "<style scoped>\n",
       "    .dataframe tbody tr th:only-of-type {\n",
       "        vertical-align: middle;\n",
       "    }\n",
       "\n",
       "    .dataframe tbody tr th {\n",
       "        vertical-align: top;\n",
       "    }\n",
       "\n",
       "    .dataframe thead th {\n",
       "        text-align: right;\n",
       "    }\n",
       "</style>\n",
       "<table border=\"1\" class=\"dataframe\">\n",
       "  <thead>\n",
       "    <tr style=\"text-align: right;\">\n",
       "      <th></th>\n",
       "      <th>형태소</th>\n",
       "      <th>품사</th>\n",
       "      <th>등장횟수</th>\n",
       "      <th>동일형태소</th>\n",
       "    </tr>\n",
       "  </thead>\n",
       "  <tbody>\n",
       "    <tr>\n",
       "      <td>0</td>\n",
       "      <td>윌</td>\n",
       "      <td>Noun</td>\n",
       "      <td>704</td>\n",
       "      <td>0</td>\n",
       "    </tr>\n",
       "    <tr>\n",
       "      <td>1</td>\n",
       "      <td>스미스</td>\n",
       "      <td>Noun</td>\n",
       "      <td>810</td>\n",
       "      <td>0</td>\n",
       "    </tr>\n",
       "    <tr>\n",
       "      <td>2</td>\n",
       "      <td>하드캐리</td>\n",
       "      <td>Noun</td>\n",
       "      <td>405</td>\n",
       "      <td>0</td>\n",
       "    </tr>\n",
       "    <tr>\n",
       "      <td>3</td>\n",
       "      <td>하여</td>\n",
       "      <td>Verb</td>\n",
       "      <td>33</td>\n",
       "      <td>0</td>\n",
       "    </tr>\n",
       "    <tr>\n",
       "      <td>4</td>\n",
       "      <td>의도</td>\n",
       "      <td>Noun</td>\n",
       "      <td>18</td>\n",
       "      <td>0</td>\n",
       "    </tr>\n",
       "  </tbody>\n",
       "</table>\n",
       "</div>"
      ],
      "text/plain": [
       "    형태소    품사 등장횟수  동일형태소\n",
       "0     윌  Noun  704      0\n",
       "1   스미스  Noun  810      0\n",
       "2  하드캐리  Noun  405      0\n",
       "3    하여  Verb   33      0\n",
       "4    의도  Noun   18      0"
      ]
     },
     "execution_count": 39,
     "metadata": {},
     "output_type": "execute_result"
    }
   ],
   "source": [
    "df.head()"
   ]
  },
  {
   "cell_type": "code",
   "execution_count": 44,
   "metadata": {},
   "outputs": [
    {
     "name": "stdout",
     "output_type": "stream",
     "text": [
      "0 100 200 300 400 500 600 700 800 900 1000 1100 1200 1300 1400 1500 1600 1700 1800 1900 2000 2100 2200 2300 2400 2500 2600 2700 2800 2900 3000 3100 3200 3300 3400 3500 3600 3700 3800 3900 4000 4100 4200 4300 4400 4500 4600 4700 4800 4900 5000 5100 5200 5300 5400 5500 5600 5700 5800 5900 6000 6100 6200 6300 6400 6500 6600 6700 6800 6900 7000 7100 7200 7300 7400 7500 7600 7700 7800 7900 8000 8100 8200 8300 8400 8500 8600 8700 8800 8900 9000 9100 9200 9300 9400 9500 9600 9700 9800 9900 10000 10100 10200 10300 10400 10500 10600 10700 10800 10900 11000 11100 11200 11300 11400 11500 11600 11700 11800 11900 12000 12100 12200 12300 12400 12500 12600 12700 12800 12900 13000 13100 13200 13300 13400 13500 13600 13700 13800 13900 14000 14100 14200 14300 14400 14500 14600 14700 14800 14900 15000 15100 15200 15300 15400 15500 15600 15700 15800 15900 16000 16100 16200 16300 16400 16500 16600 16700 16800 16900 17000 17100 17200 17300 17400 17500 17600 17700 17800 17900 18000 18100 18200 18300 18400 18500 18600 18700 18800 18900 19000 19100 19200 19300 19400 19500 19600 19700 19800 19900 20000 20100 20200 20300 20400 20500 20600 20700 20800 20900 21000 21100 21200 21300 21400 21500 21600 21700 21800 21900 22000 22100 22200 22300 22400 22500 22600 22700 22800 22900 23000 23100 23200 23300 23400 23500 23600 23700 23800 23900 "
     ]
    }
   ],
   "source": [
    "for i in range(length-1):\n",
    "    if i % 100 == 0:\n",
    "        print(i, end=' ')\n",
    "    if df.iloc[i,3] == 1:\n",
    "        continue;\n",
    "    for k in range(i+1, length):\n",
    "        if df.iloc[i,0] == df.iloc[k,0]:\n",
    "            df.iloc[i,3] = 1\n",
    "            df.iloc[k,3] = 1\n",
    "            continue"
   ]
  },
  {
   "cell_type": "code",
   "execution_count": 45,
   "metadata": {},
   "outputs": [],
   "source": [
    "ddf = df[df['동일형태소'] == 1]"
   ]
  },
  {
   "cell_type": "code",
   "execution_count": 46,
   "metadata": {},
   "outputs": [
    {
     "data": {
      "text/html": [
       "<div>\n",
       "<style scoped>\n",
       "    .dataframe tbody tr th:only-of-type {\n",
       "        vertical-align: middle;\n",
       "    }\n",
       "\n",
       "    .dataframe tbody tr th {\n",
       "        vertical-align: top;\n",
       "    }\n",
       "\n",
       "    .dataframe thead th {\n",
       "        text-align: right;\n",
       "    }\n",
       "</style>\n",
       "<table border=\"1\" class=\"dataframe\">\n",
       "  <thead>\n",
       "    <tr style=\"text-align: right;\">\n",
       "      <th></th>\n",
       "      <th>형태소</th>\n",
       "      <th>품사</th>\n",
       "      <th>등장횟수</th>\n",
       "      <th>동일형태소</th>\n",
       "    </tr>\n",
       "  </thead>\n",
       "  <tbody>\n",
       "    <tr>\n",
       "      <td>10</td>\n",
       "      <td>영화</td>\n",
       "      <td>Noun</td>\n",
       "      <td>9609</td>\n",
       "      <td>1</td>\n",
       "    </tr>\n",
       "    <tr>\n",
       "      <td>14</td>\n",
       "      <td>도</td>\n",
       "      <td>Noun</td>\n",
       "      <td>648</td>\n",
       "      <td>1</td>\n",
       "    </tr>\n",
       "    <tr>\n",
       "      <td>19</td>\n",
       "      <td>중</td>\n",
       "      <td>Suffix</td>\n",
       "      <td>670</td>\n",
       "      <td>1</td>\n",
       "    </tr>\n",
       "    <tr>\n",
       "      <td>28</td>\n",
       "      <td>울</td>\n",
       "      <td>Modifier</td>\n",
       "      <td>62</td>\n",
       "      <td>1</td>\n",
       "    </tr>\n",
       "    <tr>\n",
       "      <td>36</td>\n",
       "      <td>아</td>\n",
       "      <td>Exclamation</td>\n",
       "      <td>288</td>\n",
       "      <td>1</td>\n",
       "    </tr>\n",
       "    <tr>\n",
       "      <td>...</td>\n",
       "      <td>...</td>\n",
       "      <td>...</td>\n",
       "      <td>...</td>\n",
       "      <td>...</td>\n",
       "    </tr>\n",
       "    <tr>\n",
       "      <td>22671</td>\n",
       "      <td>이었다면</td>\n",
       "      <td>Foreign</td>\n",
       "      <td>1</td>\n",
       "      <td>1</td>\n",
       "    </tr>\n",
       "    <tr>\n",
       "      <td>22871</td>\n",
       "      <td>넘은게</td>\n",
       "      <td>Foreign</td>\n",
       "      <td>1</td>\n",
       "      <td>1</td>\n",
       "    </tr>\n",
       "    <tr>\n",
       "      <td>22882</td>\n",
       "      <td>그만</td>\n",
       "      <td>Modifier</td>\n",
       "      <td>2</td>\n",
       "      <td>1</td>\n",
       "    </tr>\n",
       "    <tr>\n",
       "      <td>23191</td>\n",
       "      <td>짓</td>\n",
       "      <td>VerbPrefix</td>\n",
       "      <td>2</td>\n",
       "      <td>1</td>\n",
       "    </tr>\n",
       "    <tr>\n",
       "      <td>23894</td>\n",
       "      <td>이면</td>\n",
       "      <td>Foreign</td>\n",
       "      <td>1</td>\n",
       "      <td>1</td>\n",
       "    </tr>\n",
       "  </tbody>\n",
       "</table>\n",
       "<p>558 rows × 4 columns</p>\n",
       "</div>"
      ],
      "text/plain": [
       "        형태소           품사  등장횟수  동일형태소\n",
       "10       영화         Noun  9609      1\n",
       "14        도         Noun   648      1\n",
       "19        중       Suffix   670      1\n",
       "28        울     Modifier    62      1\n",
       "36        아  Exclamation   288      1\n",
       "...     ...          ...   ...    ...\n",
       "22671  이었다면      Foreign     1      1\n",
       "22871   넘은게      Foreign     1      1\n",
       "22882    그만     Modifier     2      1\n",
       "23191     짓   VerbPrefix     2      1\n",
       "23894    이면      Foreign     1      1\n",
       "\n",
       "[558 rows x 4 columns]"
      ]
     },
     "execution_count": 46,
     "metadata": {},
     "output_type": "execute_result"
    }
   ],
   "source": [
    "ddf"
   ]
  },
  {
   "cell_type": "code",
   "execution_count": 47,
   "metadata": {},
   "outputs": [
    {
     "data": {
      "text/html": [
       "<div>\n",
       "<style scoped>\n",
       "    .dataframe tbody tr th:only-of-type {\n",
       "        vertical-align: middle;\n",
       "    }\n",
       "\n",
       "    .dataframe tbody tr th {\n",
       "        vertical-align: top;\n",
       "    }\n",
       "\n",
       "    .dataframe thead th {\n",
       "        text-align: right;\n",
       "    }\n",
       "</style>\n",
       "<table border=\"1\" class=\"dataframe\">\n",
       "  <thead>\n",
       "    <tr style=\"text-align: right;\">\n",
       "      <th></th>\n",
       "      <th>형태소</th>\n",
       "      <th>품사</th>\n",
       "      <th>등장횟수</th>\n",
       "      <th>동일형태소</th>\n",
       "    </tr>\n",
       "  </thead>\n",
       "  <tbody>\n",
       "    <tr>\n",
       "      <td>10</td>\n",
       "      <td>영화</td>\n",
       "      <td>Noun</td>\n",
       "      <td>9609</td>\n",
       "      <td>1</td>\n",
       "    </tr>\n",
       "    <tr>\n",
       "      <td>15265</td>\n",
       "      <td>영화</td>\n",
       "      <td>Foreign</td>\n",
       "      <td>1</td>\n",
       "      <td>1</td>\n",
       "    </tr>\n",
       "  </tbody>\n",
       "</table>\n",
       "</div>"
      ],
      "text/plain": [
       "      형태소       품사  등장횟수  동일형태소\n",
       "10     영화     Noun  9609      1\n",
       "15265  영화  Foreign     1      1"
      ]
     },
     "execution_count": 47,
     "metadata": {},
     "output_type": "execute_result"
    }
   ],
   "source": [
    "ddf[ddf['형태소'] == '영화']"
   ]
  },
  {
   "cell_type": "code",
   "execution_count": 50,
   "metadata": {},
   "outputs": [],
   "source": [
    "df.to_csv('data/03.영화평 형태소.csv', encoding='euc-kr')"
   ]
  },
  {
   "cell_type": "code",
   "execution_count": null,
   "metadata": {},
   "outputs": [],
   "source": []
  }
 ],
 "metadata": {
  "kernelspec": {
   "display_name": "Python 3",
   "language": "python",
   "name": "python3"
  },
  "language_info": {
   "codemirror_mode": {
    "name": "ipython",
    "version": 3
   },
   "file_extension": ".py",
   "mimetype": "text/x-python",
   "name": "python",
   "nbconvert_exporter": "python",
   "pygments_lexer": "ipython3",
   "version": "3.7.4"
  }
 },
 "nbformat": 4,
 "nbformat_minor": 2
}
