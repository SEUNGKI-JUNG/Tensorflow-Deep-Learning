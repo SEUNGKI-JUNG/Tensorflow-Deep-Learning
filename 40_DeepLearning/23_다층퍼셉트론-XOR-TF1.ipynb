{
 "cells": [
  {
   "cell_type": "markdown",
   "metadata": {},
   "source": [
    "## 다층 퍼셉트론 - XOR - Tensorflow 1.x"
   ]
  },
  {
   "cell_type": "code",
   "execution_count": 1,
   "metadata": {},
   "outputs": [
    {
     "name": "stdout",
     "output_type": "stream",
     "text": [
      "WARNING:tensorflow:From C:\\Users\\EZEN\\Anaconda3\\lib\\site-packages\\tensorflow_core\\python\\compat\\v2_compat.py:65: disable_resource_variables (from tensorflow.python.ops.variable_scope) is deprecated and will be removed in a future version.\n",
      "Instructions for updating:\n",
      "non-resource variables are not supported in the long term\n"
     ]
    }
   ],
   "source": [
    "import numpy as np\n",
    "import tensorflow.compat.v1 as tf\n",
    "tf.disable_v2_behavior()"
   ]
  },
  {
   "cell_type": "code",
   "execution_count": 2,
   "metadata": {},
   "outputs": [],
   "source": [
    "# 실행할 때마다 같은 결과를 출력하기 위한 seed 값 설정\n",
    "seed = 0\n",
    "np.random.seed(seed)\n",
    "tf.set_random_seed(seed)"
   ]
  },
  {
   "cell_type": "code",
   "execution_count": 4,
   "metadata": {},
   "outputs": [
    {
     "name": "stdout",
     "output_type": "stream",
     "text": [
      "(4, 2) (4,)\n"
     ]
    },
    {
     "data": {
      "text/plain": [
       "array([0, 1, 1, 0])"
      ]
     },
     "execution_count": 4,
     "metadata": {},
     "output_type": "execute_result"
    }
   ],
   "source": [
    "# x, y의 데이터 값\n",
    "x_data = np.array([[0, 0],[0, 1],[1, 0],[1, 1]]) \n",
    "y_data = np.array([0, 1, 1, 0])\n",
    "print(x_data.shape, y_data.shape)\n",
    "y_data"
   ]
  },
  {
   "cell_type": "code",
   "execution_count": 5,
   "metadata": {},
   "outputs": [
    {
     "name": "stdout",
     "output_type": "stream",
     "text": [
      "(4, 2) (4, 1)\n"
     ]
    },
    {
     "data": {
      "text/plain": [
       "array([[0],\n",
       "       [1],\n",
       "       [1],\n",
       "       [0]])"
      ]
     },
     "execution_count": 5,
     "metadata": {},
     "output_type": "execute_result"
    }
   ],
   "source": [
    "y_data = y_data.reshape(4,1)\n",
    "print(x_data.shape, y_data.shape)\n",
    "y_data"
   ]
  },
  {
   "cell_type": "code",
   "execution_count": 36,
   "metadata": {},
   "outputs": [],
   "source": [
    "X = tf.placeholder(tf.float32, [None, 2])\n",
    "Y = tf.placeholder(tf.float32, [None, 1])"
   ]
  },
  {
   "cell_type": "code",
   "execution_count": 37,
   "metadata": {},
   "outputs": [],
   "source": [
    "# Layer 1\n",
    "W1 = tf.Variable(tf.random_normal([2, 2]), dtype=tf.float32)\n",
    "b1 = tf.Variable(tf.random_normal([2]), dtype=tf.float32)\n",
    "L1 = tf.sigmoid(tf.matmul(X, W1) + b1)"
   ]
  },
  {
   "cell_type": "code",
   "execution_count": 38,
   "metadata": {},
   "outputs": [],
   "source": [
    "# Layer 2\n",
    "W2 = tf.Variable(tf.random_normal([2, 1]), dtype=tf.float32)\n",
    "b2 = tf.Variable(tf.random_normal([1]), dtype=tf.float32)\n",
    "hypo = tf.sigmoid(tf.matmul(L1, W2) + b2)"
   ]
  },
  {
   "cell_type": "code",
   "execution_count": 39,
   "metadata": {},
   "outputs": [],
   "source": [
    "# Cost - Binary Cross Entropy\n",
    "cost = -tf.reduce_mean(Y * tf.log(hypo) + (1.-Y) * tf.log(1.-hypo))"
   ]
  },
  {
   "cell_type": "code",
   "execution_count": 40,
   "metadata": {},
   "outputs": [],
   "source": [
    "# Optimizer - Adam\n",
    "lr = 0.03\n",
    "train = tf.train.AdamOptimizer(learning_rate=lr).minimize(cost)"
   ]
  },
  {
   "cell_type": "code",
   "execution_count": 41,
   "metadata": {},
   "outputs": [],
   "source": [
    "# Accuracy 계산\n",
    "predicted = tf.cast(hypo > 0.5, dtype=tf.float32)\n",
    "accuracy = tf.reduce_mean(tf.cast(tf.equal(predicted, Y), dtype=tf.float32))"
   ]
  },
  {
   "cell_type": "code",
   "execution_count": 42,
   "metadata": {},
   "outputs": [
    {
     "name": "stdout",
     "output_type": "stream",
     "text": [
      "0 0.6936492\n",
      "1000 0.34796694\n",
      "2000 0.34696352\n",
      "3000 0.34674114\n",
      "4000 0.34665823\n",
      "5000 0.34662002\n",
      "6000 0.34660053\n",
      "7000 0.34659028\n",
      "8000 0.3465845\n",
      "9000 0.34658056\n",
      "10000 0.3465784\n",
      "\n",
      "Hypothesis:\n",
      "[[7.2716152e-06]\n",
      " [4.9999738e-01]\n",
      " [9.9999619e-01]\n",
      " [5.0000143e-01]] \n",
      "Predicted:\n",
      "[[0.]\n",
      " [0.]\n",
      " [1.]\n",
      " [1.]] \n",
      "Accuracy:\n",
      "0.5\n",
      "\n",
      "W1:\n",
      "[[ 7.633429  -7.4882274]\n",
      " [16.89402   16.765081 ]] \n",
      "b1:\n",
      "[-2.7802656  5.1402936] \n",
      "W2:\n",
      "[[ 12.6504545]\n",
      " [-13.766144 ]]\n",
      "b1:\n",
      "[1.1156874]\n"
     ]
    }
   ],
   "source": [
    "# 학습\n",
    "with tf.Session() as sess:\n",
    "    # Initialize TensorFlow variables\n",
    "    sess.run(tf.global_variables_initializer())\n",
    "    for step in range(10001):\n",
    "        _, cost_val = sess.run([train, cost], feed_dict={X: x_data, Y: y_data})\n",
    "        if step % 1000 == 0:\n",
    "            print(step, cost_val)\n",
    "            \n",
    "    # Accuracy report\n",
    "    h, p, a = sess.run([hypo, predicted, accuracy], feed_dict={X: x_data, Y: y_data}) \n",
    "    print(f\"\\nHypothesis:\\n{h} \\nPredicted:\\n{p} \\nAccuracy:\\n{a}\")\n",
    "    \n",
    "    # Weight, bias\n",
    "    w1val, b1val, w2val, b2val = sess.run([W1, b1, W2, b2])\n",
    "    print(f\"\\nW1:\\n{w1val} \\nb1:\\n{b1val} \\nW2:\\n{w2val}\\nb1:\\n{b2val}\")"
   ]
  },
  {
   "cell_type": "code",
   "execution_count": null,
   "metadata": {},
   "outputs": [],
   "source": []
  }
 ],
 "metadata": {
  "kernelspec": {
   "display_name": "Python 3",
   "language": "python",
   "name": "python3"
  },
  "language_info": {
   "codemirror_mode": {
    "name": "ipython",
    "version": 3
   },
   "file_extension": ".py",
   "mimetype": "text/x-python",
   "name": "python",
   "nbconvert_exporter": "python",
   "pygments_lexer": "ipython3",
   "version": "3.7.3"
  }
 },
 "nbformat": 4,
 "nbformat_minor": 2
}
