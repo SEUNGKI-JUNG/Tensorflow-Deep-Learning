{
 "cells": [
  {
   "cell_type": "markdown",
   "metadata": {},
   "source": [
    "## 다층 퍼셉트론 - XOR - Tensorflow 1.x"
   ]
  },
  {
   "cell_type": "code",
   "execution_count": 1,
   "metadata": {},
   "outputs": [
    {
     "name": "stdout",
     "output_type": "stream",
     "text": [
      "WARNING:tensorflow:From C:\\Users\\ckkim\\.conda\\envs\\tf2\\lib\\site-packages\\tensorflow_core\\python\\compat\\v2_compat.py:65: disable_resource_variables (from tensorflow.python.ops.variable_scope) is deprecated and will be removed in a future version.\n",
      "Instructions for updating:\n",
      "non-resource variables are not supported in the long term\n"
     ]
    }
   ],
   "source": [
    "import numpy as np\n",
    "import tensorflow.compat.v1 as tf\n",
    "tf.disable_v2_behavior()"
   ]
  },
  {
   "cell_type": "code",
   "execution_count": 2,
   "metadata": {},
   "outputs": [],
   "source": [
    "# 실행할 때마다 같은 결과를 출력하기 위한 seed 값 설정\n",
    "seed = 0\n",
    "np.random.seed(seed)\n",
    "tf.set_random_seed(seed)"
   ]
  },
  {
   "cell_type": "code",
   "execution_count": 4,
   "metadata": {},
   "outputs": [],
   "source": [
    "# x, y의 데이터 값\n",
    "x_data = np.array([[0, 0],[0, 1],[1, 0],[1, 1]]) \n",
    "y_data = np.array([0, 1, 1, 0]).reshape(4, 1)"
   ]
  },
  {
   "cell_type": "code",
   "execution_count": 5,
   "metadata": {},
   "outputs": [],
   "source": [
    "X = tf.placeholder(tf.float32, [None, 2])\n",
    "Y = tf.placeholder(tf.float32, [None, 1])"
   ]
  },
  {
   "cell_type": "code",
   "execution_count": 11,
   "metadata": {},
   "outputs": [],
   "source": [
    "# Layer 1\n",
    "W1 = tf.Variable(tf.random_normal([2, 2]), dtype=tf.float32)\n",
    "b1 = tf.Variable(tf.random_normal([2]), dtype=tf.float32)\n",
    "L1 = tf.sigmoid(tf.matmul(X, W1) + b1)"
   ]
  },
  {
   "cell_type": "code",
   "execution_count": 12,
   "metadata": {},
   "outputs": [],
   "source": [
    "# Layer 2\n",
    "W2 = tf.Variable(tf.random_normal([2, 1]), dtype=tf.float32)\n",
    "b2 = tf.Variable(tf.random_normal([1]), dtype=tf.float32)\n",
    "hypo = tf.sigmoid(tf.matmul(L1, W2) + b2)"
   ]
  },
  {
   "cell_type": "code",
   "execution_count": 13,
   "metadata": {},
   "outputs": [],
   "source": [
    "# Cost - Binary Cross Entropy\n",
    "cost = -tf.reduce_mean(Y * tf.log(hypo) + (1.-Y) * tf.log(1.-hypo))"
   ]
  },
  {
   "cell_type": "code",
   "execution_count": 14,
   "metadata": {},
   "outputs": [],
   "source": [
    "# Optimizer - Adam\n",
    "lr = 0.01\n",
    "train = tf.train.AdamOptimizer(learning_rate=lr).minimize(cost)"
   ]
  },
  {
   "cell_type": "code",
   "execution_count": 16,
   "metadata": {},
   "outputs": [],
   "source": [
    "# Accuracy 계산\n",
    "predicted = tf.cast(hypo > 0.5, dtype=tf.float32)\n",
    "accuracy = tf.reduce_mean(tf.cast(tf.equal(predicted, Y), dtype=tf.float32))"
   ]
  },
  {
   "cell_type": "code",
   "execution_count": 17,
   "metadata": {},
   "outputs": [
    {
     "name": "stdout",
     "output_type": "stream",
     "text": [
      "0 0.79730654\n",
      "100 0.6598723\n",
      "200 0.6047909\n",
      "300 0.5069558\n",
      "400 0.3482751\n",
      "500 0.21082813\n",
      "600 0.13597956\n",
      "700 0.09531659\n",
      "800 0.07106623\n",
      "900 0.05536735\n",
      "1000 0.04454762\n",
      "1100 0.036726497\n",
      "1200 0.030859694\n",
      "1300 0.026327252\n",
      "1400 0.022741161\n",
      "1500 0.0198472\n",
      "1600 0.017472833\n",
      "1700 0.015497179\n",
      "1800 0.01383326\n",
      "1900 0.01241702\n",
      "2000 0.011200462\n",
      "2100 0.010146898\n",
      "2200 0.0092278775\n",
      "2300 0.008420974\n",
      "2400 0.007708469\n",
      "2500 0.007075905\n",
      "2600 0.0065117073\n",
      "2700 0.006006278\n",
      "2800 0.0055517163\n",
      "2900 0.005141387\n",
      "3000 0.0047697527\n",
      "3100 0.0044321716\n",
      "3200 0.0041246265\n",
      "3300 0.003843693\n",
      "3400 0.0035864902\n",
      "3500 0.0033504118\n",
      "3600 0.003133364\n",
      "3700 0.002933361\n",
      "3800 0.0027487031\n",
      "3900 0.0025779326\n",
      "4000 0.002419786\n",
      "4100 0.0022731526\n",
      "4200 0.0021369064\n",
      "4300 0.002010162\n",
      "4400 0.0018921846\n",
      "4500 0.0017821342\n",
      "4600 0.0016794408\n",
      "4700 0.0015835501\n",
      "4800 0.0014938628\n",
      "4900 0.001409855\n",
      "5000 0.0013311371\n",
      "5100 0.0012573944\n",
      "5200 0.0011881484\n",
      "5300 0.0011232041\n",
      "5400 0.0010621279\n",
      "5500 0.0010046656\n",
      "5600 0.0009506823\n",
      "5700 0.0008998045\n",
      "5800 0.0008519124\n",
      "5900 0.00080679666\n",
      "6000 0.0007642333\n",
      "6100 0.0007240578\n",
      "6200 0.0006861655\n",
      "6300 0.0006503923\n",
      "6400 0.00061660353\n",
      "6500 0.0005846798\n",
      "6600 0.00055447174\n",
      "6700 0.00052596437\n",
      "6800 0.0004990233\n",
      "6900 0.00047351423\n",
      "7000 0.0004493327\n",
      "7100 0.00042647857\n",
      "7200 0.0004048176\n",
      "7300 0.000384305\n",
      "7400 0.00036491087\n",
      "7500 0.00034650098\n",
      "7600 0.00032906036\n",
      "7700 0.00031252933\n",
      "7800 0.0002968333\n",
      "7900 0.000282017\n",
      "8000 0.00026790146\n",
      "8100 0.0002545165\n",
      "8200 0.00024186207\n",
      "8300 0.00022981892\n",
      "8400 0.00021840191\n",
      "8500 0.0002075514\n",
      "8600 0.0001972823\n",
      "8700 0.00018749022\n",
      "8800 0.000178205\n",
      "8900 0.00016941168\n",
      "9000 0.00016105067\n",
      "9100 0.00015309211\n",
      "9200 0.00014558074\n",
      "9300 0.00013838238\n",
      "9400 0.00013158648\n",
      "9500 0.00012513339\n",
      "9600 0.00011900822\n",
      "9700 0.00011313643\n",
      "9800 0.00010763726\n",
      "9900 0.000102346756\n",
      "10000 9.732453e-05\n",
      "\n",
      "Hypothesis:\n",
      "[[1.3929605e-04]\n",
      " [9.9991214e-01]\n",
      " [9.9991238e-01]\n",
      " [7.4326992e-05]] \n",
      "Predicted:\n",
      "[[0.]\n",
      " [1.]\n",
      " [1.]\n",
      " [0.]] \n",
      "Accuracy:\n",
      "1.0\n"
     ]
    }
   ],
   "source": [
    "# 학습\n",
    "with tf.Session() as sess:\n",
    "    # Initialize TensorFlow variables\n",
    "    sess.run(tf.global_variables_initializer())\n",
    "    for step in range(10001):\n",
    "        _, cost_val = sess.run([train, cost], feed_dict={X: x_data, Y: y_data})\n",
    "        if step % 100 == 0:\n",
    "            print(step, cost_val)\n",
    "            \n",
    "    # Accuracy report\n",
    "    h, p, a = sess.run([hypo, predicted, accuracy], feed_dict={X: x_data, Y: y_data})\n",
    "        \n",
    "    print(f\"\\nHypothesis:\\n{h} \\nPredicted:\\n{p} \\nAccuracy:\\n{a}\")"
   ]
  },
  {
   "cell_type": "code",
   "execution_count": null,
   "metadata": {},
   "outputs": [],
   "source": []
  }
 ],
 "metadata": {
  "kernelspec": {
   "display_name": "Python 3",
   "language": "python",
   "name": "python3"
  },
  "language_info": {
   "codemirror_mode": {
    "name": "ipython",
    "version": 3
   },
   "file_extension": ".py",
   "mimetype": "text/x-python",
   "name": "python",
   "nbconvert_exporter": "python",
   "pygments_lexer": "ipython3",
   "version": "3.7.5"
  }
 },
 "nbformat": 4,
 "nbformat_minor": 2
}
