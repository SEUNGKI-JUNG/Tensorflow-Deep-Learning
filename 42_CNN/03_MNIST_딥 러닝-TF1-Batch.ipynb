{
 "cells": [
  {
   "cell_type": "markdown",
   "metadata": {},
   "source": [
    "# 이미지 인식 - 딥 러닝\n",
    "## MNIST 사례"
   ]
  },
  {
   "cell_type": "code",
   "execution_count": 1,
   "metadata": {},
   "outputs": [
    {
     "name": "stdout",
     "output_type": "stream",
     "text": [
      "WARNING:tensorflow:From C:\\Users\\ckkim\\.conda\\envs\\tf2\\lib\\site-packages\\tensorflow_core\\python\\compat\\v2_compat.py:65: disable_resource_variables (from tensorflow.python.ops.variable_scope) is deprecated and will be removed in a future version.\n",
      "Instructions for updating:\n",
      "non-resource variables are not supported in the long term\n"
     ]
    }
   ],
   "source": [
    "import tensorflow.compat.v1 as tf\n",
    "tf.disable_v2_behavior()"
   ]
  },
  {
   "cell_type": "code",
   "execution_count": 2,
   "metadata": {},
   "outputs": [],
   "source": [
    "(X_train, Y_class_train), (X_test, Y_class_test) = tf.keras.datasets.mnist.load_data()"
   ]
  },
  {
   "cell_type": "code",
   "execution_count": 3,
   "metadata": {},
   "outputs": [
    {
     "data": {
      "text/plain": [
       "((60000, 28, 28), (10000, 28, 28))"
      ]
     },
     "execution_count": 3,
     "metadata": {},
     "output_type": "execute_result"
    }
   ],
   "source": [
    "X_train.shape, X_test.shape"
   ]
  },
  {
   "cell_type": "code",
   "execution_count": 4,
   "metadata": {},
   "outputs": [],
   "source": [
    "X_train = X_train.reshape(X_train.shape[0], 784)\n",
    "X_train = X_train.astype('float32')\n",
    "X_train = X_train / 255"
   ]
  },
  {
   "cell_type": "code",
   "execution_count": 5,
   "metadata": {},
   "outputs": [],
   "source": [
    "X_test = X_test.reshape(X_test.shape[0], 784).astype('float32') / 255"
   ]
  },
  {
   "cell_type": "code",
   "execution_count": 6,
   "metadata": {},
   "outputs": [
    {
     "data": {
      "text/plain": [
       "((60000, 784), (10000, 784))"
      ]
     },
     "execution_count": 6,
     "metadata": {},
     "output_type": "execute_result"
    }
   ],
   "source": [
    "X_train.shape, X_test.shape"
   ]
  },
  {
   "cell_type": "code",
   "execution_count": 7,
   "metadata": {},
   "outputs": [],
   "source": [
    "Y_train = tf.keras.utils.to_categorical(Y_class_train,10)\n",
    "Y_test = tf.keras.utils.to_categorical(Y_class_test,10)"
   ]
  },
  {
   "cell_type": "code",
   "execution_count": 8,
   "metadata": {},
   "outputs": [
    {
     "data": {
      "text/plain": [
       "array([0., 0., 0., 0., 0., 1., 0., 0., 0., 0.], dtype=float32)"
      ]
     },
     "execution_count": 8,
     "metadata": {},
     "output_type": "execute_result"
    }
   ],
   "source": [
    "Y_train[0]"
   ]
  },
  {
   "cell_type": "code",
   "execution_count": 9,
   "metadata": {},
   "outputs": [],
   "source": [
    "# seed 값 설정\n",
    "seed = 0\n",
    "tf.set_random_seed(seed)"
   ]
  },
  {
   "cell_type": "code",
   "execution_count": 10,
   "metadata": {},
   "outputs": [],
   "source": [
    "# 입력 값을 플레이스 홀더에 저장\n",
    "X = tf.placeholder(tf.float32, shape=[None, 784])\n",
    "Y = tf.placeholder(tf.float32, shape=[None, 10])"
   ]
  },
  {
   "cell_type": "code",
   "execution_count": 11,
   "metadata": {},
   "outputs": [],
   "source": [
    "# Layer 1\n",
    "W1 = tf.Variable(tf.random_normal([784,512], dtype=tf.float32)) \n",
    "b1 = tf.Variable(tf.random_normal([512], dtype=tf.float32))\n",
    "L1 = tf.nn.relu(tf.matmul(X, W1) + b1)"
   ]
  },
  {
   "cell_type": "code",
   "execution_count": 12,
   "metadata": {},
   "outputs": [],
   "source": [
    "# Layer 2\n",
    "W2 = tf.Variable(tf.random_normal([512,10], dtype=tf.float32)) \n",
    "b2 = tf.Variable(tf.random_normal([10], dtype=tf.float32))\n",
    "hypo = tf.matmul(L1, W2) + b2"
   ]
  },
  {
   "cell_type": "code",
   "execution_count": 13,
   "metadata": {},
   "outputs": [
    {
     "name": "stdout",
     "output_type": "stream",
     "text": [
      "WARNING:tensorflow:From <ipython-input-13-539823240d45>:2: softmax_cross_entropy_with_logits (from tensorflow.python.ops.nn_ops) is deprecated and will be removed in a future version.\n",
      "Instructions for updating:\n",
      "\n",
      "Future major versions of TensorFlow will allow gradients to flow\n",
      "into the labels input on backprop by default.\n",
      "\n",
      "See `tf.nn.softmax_cross_entropy_with_logits_v2`.\n",
      "\n"
     ]
    }
   ],
   "source": [
    "# Categorical Cross Entropy\n",
    "cost = tf.reduce_sum(tf.nn.softmax_cross_entropy_with_logits(logits=hypo, labels=Y))"
   ]
  },
  {
   "cell_type": "code",
   "execution_count": 14,
   "metadata": {},
   "outputs": [],
   "source": [
    "lr = 0.2\n",
    "train = tf.train.AdamOptimizer(learning_rate=lr).minimize(cost)"
   ]
  },
  {
   "cell_type": "code",
   "execution_count": 15,
   "metadata": {},
   "outputs": [],
   "source": [
    "predict = tf.equal(tf.argmax(Y, 1), tf.argmax(hypo, 1))\n",
    "accuracy = tf.reduce_mean(tf.cast(predict, dtype=tf.float32))"
   ]
  },
  {
   "cell_type": "code",
   "execution_count": 16,
   "metadata": {},
   "outputs": [],
   "source": [
    "batch_size = 200\n",
    "xx, = X_train[0].shape\n",
    "batch_count = int(60000 / batch_size)"
   ]
  },
  {
   "cell_type": "code",
   "execution_count": 18,
   "metadata": {},
   "outputs": [
    {
     "name": "stdout",
     "output_type": "stream",
     "text": [
      "Epoch=1, cost_train=2775.0321, acc_train: 0.7946, cost_test=6880.5996, acc_test: 0.8595\n",
      "Epoch=51, cost_train=285.8494, acc_train: 0.4716, cost_test=29439.0234, acc_test: 0.4742\n",
      "Epoch=101, cost_train=267.5532, acc_train: 0.5002, cost_test=34986.3906, acc_test: 0.5007\n",
      "Epoch=151, cost_train=258.5201, acc_train: 0.4976, cost_test=28793.1992, acc_test: 0.5062\n",
      "Epoch=201, cost_train=263.2133, acc_train: 0.4998, cost_test=40725.9531, acc_test: 0.5009\n",
      "Epoch=251, cost_train=252.0586, acc_train: 0.5096, cost_test=67994.1250, acc_test: 0.4984\n",
      "Epoch=301, cost_train=254.6029, acc_train: 0.5191, cost_test=131006.7578, acc_test: 0.5314\n",
      "Epoch=351, cost_train=241.6817, acc_train: 0.5281, cost_test=110145.3125, acc_test: 0.5181\n",
      "Epoch=401, cost_train=288.5106, acc_train: 0.5034, cost_test=154984.5312, acc_test: 0.5018\n",
      "Epoch=451, cost_train=263.3086, acc_train: 0.4990, cost_test=105390.2109, acc_test: 0.4918\n",
      "Epoch=501, cost_train=245.7958, acc_train: 0.5185, cost_test=110306.1641, acc_test: 0.5183\n",
      "Epoch=551, cost_train=254.9096, acc_train: 0.5027, cost_test=191385.2812, acc_test: 0.5036\n",
      "Epoch=601, cost_train=271.6316, acc_train: 0.4715, cost_test=114376.7812, acc_test: 0.4728\n",
      "Epoch=651, cost_train=279.6158, acc_train: 0.4985, cost_test=189633.7344, acc_test: 0.4945\n",
      "Epoch=701, cost_train=250.2032, acc_train: 0.5124, cost_test=251509.9219, acc_test: 0.5065\n",
      "Epoch=751, cost_train=250.5252, acc_train: 0.5101, cost_test=302563.2188, acc_test: 0.5111\n",
      "Epoch=801, cost_train=253.3310, acc_train: 0.5099, cost_test=179794.8438, acc_test: 0.5088\n",
      "Epoch=851, cost_train=252.1530, acc_train: 0.5053, cost_test=149864.9219, acc_test: 0.5030\n",
      "Epoch=901, cost_train=268.7004, acc_train: 0.4867, cost_test=116955.0078, acc_test: 0.4756\n",
      "Epoch=951, cost_train=246.1734, acc_train: 0.5195, cost_test=315679.4375, acc_test: 0.5157\n",
      "Epoch=1001, cost_train=266.5919, acc_train: 0.4825, cost_test=243447.3438, acc_test: 0.4785\n"
     ]
    }
   ],
   "source": [
    "# 학습\n",
    "sess = tf.Session()\n",
    "sess.run(tf.global_variables_initializer())\n",
    "\n",
    "for epoch in range(101):\n",
    "    cost_train = 0.0\n",
    "    acc_train = 0.0\n",
    "    for i in range(batch_count):\n",
    "        batch_xs = X_train[i*batch_size:i*batch_size+batch_size]\n",
    "        batch_ys = Y_train[i*batch_size:i*batch_size+batch_size]\n",
    "        _, c, a = sess.run([train, cost, accuracy], feed_dict = {X: batch_xs, Y: batch_ys})\n",
    "        cost_train += c\n",
    "        acc_train += a\n",
    "    cost_train /= batch_count\n",
    "    acc_train /= batch_count\n",
    "        \n",
    "    if epoch % 10 == 0:\n",
    "        cost_test, acc_test = sess.run([cost, accuracy], feed_dict = {X: X_test, Y: Y_test})\n",
    "        print(\"Epoch=%d, cost_train=%.4f, acc_train: %.4f, cost_test=%.4f, acc_test: %.4f\" % \n",
    "              (epoch + 1, cost_train, acc_train, cost_test, acc_test))"
   ]
  },
  {
   "cell_type": "code",
   "execution_count": 19,
   "metadata": {},
   "outputs": [
    {
     "name": "stdout",
     "output_type": "stream",
     "text": [
      "Accuracy: 0.4785\n"
     ]
    }
   ],
   "source": [
    "# 평가\n",
    "acc = sess.run(accuracy, feed_dict = {X: X_test, Y: Y_test})\n",
    "print(\"Accuracy: %.4f\" % acc)"
   ]
  },
  {
   "cell_type": "code",
   "execution_count": null,
   "metadata": {},
   "outputs": [],
   "source": []
  }
 ],
 "metadata": {
  "kernelspec": {
   "display_name": "Python 3",
   "language": "python",
   "name": "python3"
  },
  "language_info": {
   "codemirror_mode": {
    "name": "ipython",
    "version": 3
   },
   "file_extension": ".py",
   "mimetype": "text/x-python",
   "name": "python",
   "nbconvert_exporter": "python",
   "pygments_lexer": "ipython3",
   "version": "3.7.5"
  }
 },
 "nbformat": 4,
 "nbformat_minor": 2
}
